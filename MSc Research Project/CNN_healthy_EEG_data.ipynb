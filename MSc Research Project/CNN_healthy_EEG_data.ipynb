{
 "cells": [
  {
   "cell_type": "code",
   "execution_count": 1,
   "id": "71e88a0d-b53f-4f1f-9c6e-ca3af95ab44f",
   "metadata": {},
   "outputs": [],
   "source": [
    "import pickle\n",
    "import pandas as pd\n",
    "import numpy as np\n",
    "import seaborn as sns\n",
    "import mne\n",
    "import matplotlib.pyplot as plt\n",
    "import pyvista\n",
    "import ipywidgets\n",
    "import ipyevents\n",
    "import pyvistaqt\n",
    "import yasa\n",
    "\n",
    "from sklearn.model_selection import train_test_split\n",
    "from sklearn.metrics import classification_report, confusion_matrix, f1_score, roc_curve, auc\n",
    "from sklearn.utils import class_weight\n",
    "\n",
    "import tensorflow as tf\n",
    "from tensorflow.keras import layers, models\n",
    "\n",
    "import scipy.signal as signal\n",
    "from scipy.signal import hilbert"
   ]
  },
  {
   "cell_type": "code",
   "execution_count": 2,
   "id": "94ebcbfd-c831-4689-864d-2af3ad1affce",
   "metadata": {},
   "outputs": [],
   "source": [
    "%matplotlib qt"
   ]
  },
  {
   "cell_type": "markdown",
   "id": "e9891cce-c0a1-4a8c-b007-f13cf5846d26",
   "metadata": {},
   "source": [
    "### CNN Model"
   ]
  },
  {
   "cell_type": "code",
   "execution_count": 3,
   "id": "0bde6df5-5d7d-4488-a388-aa260c31c50a",
   "metadata": {},
   "outputs": [],
   "source": [
    "def build_cnn_model(input_shape=(500, 1)):\n",
    "\n",
    "    # linear embedding layer\n",
    "    input_layer = tf.keras.layers.Input(shape=input_shape)\n",
    "\n",
    "    # Three convolutional blocks (like having three pattern detectors)\n",
    "\n",
    "    # First convolution block, kernel size of 5\n",
    "    padded1 = tf.keras.layers.ZeroPadding1D(padding=2)(input_layer)\n",
    "    conv1 = tf.keras.layers.Conv1D(filters=10, kernel_size=5, strides=1, padding='valid')(padded1)\n",
    "    # each filter learns a different type of short-time feature\n",
    "    # stride of 1, moves one step at a time\n",
    "    conv1 = tf.keras.layers.LeakyReLU(alpha=0.01)(conv1)\n",
    "    conv1 = tf.keras.layers.MaxPooling1D(pool_size=2)(conv1)\n",
    "    # K = 2\n",
    "    conv1 = tf.keras.layers.BatchNormalization()(conv1)\n",
    "\n",
    "    # Second convolution block, kernel size of 11\n",
    "    padded2 = tf.keras.layers.ZeroPadding1D(padding=5)(input_layer)\n",
    "    conv2 = tf.keras.layers.Conv1D(filters=10, kernel_size=11, strides=1, padding='valid')(padded2)\n",
    "    conv2 = tf.keras.layers.LeakyReLU(alpha=0.01)(conv2)\n",
    "    conv2 = tf.keras.layers.MaxPooling1D(pool_size=2)(conv2)\n",
    "    conv2 = tf.keras.layers.BatchNormalization()(conv2)\n",
    "\n",
    "    # Third convolution block, kernel size of 21\n",
    "    padded3 = tf.keras.layers.ZeroPadding1D(padding=10)(input_layer)\n",
    "    conv3 = tf.keras.layers.Conv1D(filters=10, kernel_size=21, strides=1, padding='valid')(padded3)\n",
    "    conv3 = tf.keras.layers.LeakyReLU(alpha=0.01)(conv3)\n",
    "    conv3 = tf.keras.layers.MaxPooling1D(pool_size=2)(conv3)\n",
    "    conv3 = tf.keras.layers.BatchNormalization()(conv3)\n",
    "\n",
    "    # Concatenate the outputs of all blocks\n",
    "    concatenated = tf.keras.layers.Concatenate()([conv1, conv2, conv3])\n",
    "\n",
    "    # GRU Layer\n",
    "    gru = tf.keras.layers.GRU(64)(concatenated)\n",
    "\n",
    "    # Fully connected (dense) layer\n",
    "    dense = tf.keras.layers.Dense(64, activation='relu')(gru)\n",
    "    # add a Dropout layer to prevent overfitting\n",
    "    dense = tf.keras.layers.Dropout(0.5)(dense)\n",
    "\n",
    "    # Two softmax outputs for dual-task classification\n",
    "    #output_task1 = tf.keras.layers.Dense(2, activation='softmax', name='task1')(dense)\n",
    "    #output_task2 = tf.keras.layers.Dense(2, activation='softmax', name='task2')(dense)\n",
    "    output = tf.keras.layers.Dense(1, activation='sigmoid')(dense)\n",
    "\n",
    "    # Create the model\n",
    "    #model = tf.keras.models.Model(inputs=input_layer, outputs=[output_task1, output_task2])\n",
    "    model = tf.keras.models.Model(inputs=input_layer, outputs=output)\n",
    "\n",
    "    # Compile the model\n",
    "    #model.compile(optimizer='adam', loss={'task1': 'categorical_crossentropy', 'task2': 'categorical_crossentropy'}, metrics={'task1': 'accuracy', 'task2': 'accuracy'})\n",
    "    model.compile(optimizer='adam', loss='binary_crossentropy', metrics=['accuracy'])\n",
    "    \n",
    "    # Return the compiled model\n",
    "    return model"
   ]
  },
  {
   "cell_type": "code",
   "execution_count": 4,
   "id": "ceae61e4-f649-4062-9f99-b88fd0bdbb90",
   "metadata": {},
   "outputs": [
    {
     "name": "stderr",
     "output_type": "stream",
     "text": [
      "C:\\Users\\roseb\\anaconda3\\envs\\msc_research_project\\Lib\\site-packages\\keras\\src\\layers\\activations\\leaky_relu.py:41: UserWarning: Argument `alpha` is deprecated. Use `negative_slope` instead.\n",
      "  warnings.warn(\n"
     ]
    },
    {
     "data": {
      "text/html": [
       "<pre style=\"white-space:pre;overflow-x:auto;line-height:normal;font-family:Menlo,'DejaVu Sans Mono',consolas,'Courier New',monospace\"><span style=\"font-weight: bold\">Model: \"functional\"</span>\n",
       "</pre>\n"
      ],
      "text/plain": [
       "\u001b[1mModel: \"functional\"\u001b[0m\n"
      ]
     },
     "metadata": {},
     "output_type": "display_data"
    },
    {
     "data": {
      "text/html": [
       "<pre style=\"white-space:pre;overflow-x:auto;line-height:normal;font-family:Menlo,'DejaVu Sans Mono',consolas,'Courier New',monospace\">┏━━━━━━━━━━━━━━━━━━━━━┳━━━━━━━━━━━━━━━━━━━┳━━━━━━━━━━━━┳━━━━━━━━━━━━━━━━━━━┓\n",
       "┃<span style=\"font-weight: bold\"> Layer (type)        </span>┃<span style=\"font-weight: bold\"> Output Shape      </span>┃<span style=\"font-weight: bold\">    Param # </span>┃<span style=\"font-weight: bold\"> Connected to      </span>┃\n",
       "┡━━━━━━━━━━━━━━━━━━━━━╇━━━━━━━━━━━━━━━━━━━╇━━━━━━━━━━━━╇━━━━━━━━━━━━━━━━━━━┩\n",
       "│ input_layer         │ (<span style=\"color: #00d7ff; text-decoration-color: #00d7ff\">None</span>, <span style=\"color: #00af00; text-decoration-color: #00af00\">500</span>, <span style=\"color: #00af00; text-decoration-color: #00af00\">1</span>)    │          <span style=\"color: #00af00; text-decoration-color: #00af00\">0</span> │ -                 │\n",
       "│ (<span style=\"color: #0087ff; text-decoration-color: #0087ff\">InputLayer</span>)        │                   │            │                   │\n",
       "├─────────────────────┼───────────────────┼────────────┼───────────────────┤\n",
       "│ zero_padding1d      │ (<span style=\"color: #00d7ff; text-decoration-color: #00d7ff\">None</span>, <span style=\"color: #00af00; text-decoration-color: #00af00\">504</span>, <span style=\"color: #00af00; text-decoration-color: #00af00\">1</span>)    │          <span style=\"color: #00af00; text-decoration-color: #00af00\">0</span> │ input_layer[<span style=\"color: #00af00; text-decoration-color: #00af00\">0</span>][<span style=\"color: #00af00; text-decoration-color: #00af00\">0</span>] │\n",
       "│ (<span style=\"color: #0087ff; text-decoration-color: #0087ff\">ZeroPadding1D</span>)     │                   │            │                   │\n",
       "├─────────────────────┼───────────────────┼────────────┼───────────────────┤\n",
       "│ zero_padding1d_1    │ (<span style=\"color: #00d7ff; text-decoration-color: #00d7ff\">None</span>, <span style=\"color: #00af00; text-decoration-color: #00af00\">510</span>, <span style=\"color: #00af00; text-decoration-color: #00af00\">1</span>)    │          <span style=\"color: #00af00; text-decoration-color: #00af00\">0</span> │ input_layer[<span style=\"color: #00af00; text-decoration-color: #00af00\">0</span>][<span style=\"color: #00af00; text-decoration-color: #00af00\">0</span>] │\n",
       "│ (<span style=\"color: #0087ff; text-decoration-color: #0087ff\">ZeroPadding1D</span>)     │                   │            │                   │\n",
       "├─────────────────────┼───────────────────┼────────────┼───────────────────┤\n",
       "│ zero_padding1d_2    │ (<span style=\"color: #00d7ff; text-decoration-color: #00d7ff\">None</span>, <span style=\"color: #00af00; text-decoration-color: #00af00\">520</span>, <span style=\"color: #00af00; text-decoration-color: #00af00\">1</span>)    │          <span style=\"color: #00af00; text-decoration-color: #00af00\">0</span> │ input_layer[<span style=\"color: #00af00; text-decoration-color: #00af00\">0</span>][<span style=\"color: #00af00; text-decoration-color: #00af00\">0</span>] │\n",
       "│ (<span style=\"color: #0087ff; text-decoration-color: #0087ff\">ZeroPadding1D</span>)     │                   │            │                   │\n",
       "├─────────────────────┼───────────────────┼────────────┼───────────────────┤\n",
       "│ conv1d (<span style=\"color: #0087ff; text-decoration-color: #0087ff\">Conv1D</span>)     │ (<span style=\"color: #00d7ff; text-decoration-color: #00d7ff\">None</span>, <span style=\"color: #00af00; text-decoration-color: #00af00\">500</span>, <span style=\"color: #00af00; text-decoration-color: #00af00\">10</span>)   │         <span style=\"color: #00af00; text-decoration-color: #00af00\">60</span> │ zero_padding1d[<span style=\"color: #00af00; text-decoration-color: #00af00\">0</span>… │\n",
       "├─────────────────────┼───────────────────┼────────────┼───────────────────┤\n",
       "│ conv1d_1 (<span style=\"color: #0087ff; text-decoration-color: #0087ff\">Conv1D</span>)   │ (<span style=\"color: #00d7ff; text-decoration-color: #00d7ff\">None</span>, <span style=\"color: #00af00; text-decoration-color: #00af00\">500</span>, <span style=\"color: #00af00; text-decoration-color: #00af00\">10</span>)   │        <span style=\"color: #00af00; text-decoration-color: #00af00\">120</span> │ zero_padding1d_1… │\n",
       "├─────────────────────┼───────────────────┼────────────┼───────────────────┤\n",
       "│ conv1d_2 (<span style=\"color: #0087ff; text-decoration-color: #0087ff\">Conv1D</span>)   │ (<span style=\"color: #00d7ff; text-decoration-color: #00d7ff\">None</span>, <span style=\"color: #00af00; text-decoration-color: #00af00\">500</span>, <span style=\"color: #00af00; text-decoration-color: #00af00\">10</span>)   │        <span style=\"color: #00af00; text-decoration-color: #00af00\">220</span> │ zero_padding1d_2… │\n",
       "├─────────────────────┼───────────────────┼────────────┼───────────────────┤\n",
       "│ leaky_re_lu         │ (<span style=\"color: #00d7ff; text-decoration-color: #00d7ff\">None</span>, <span style=\"color: #00af00; text-decoration-color: #00af00\">500</span>, <span style=\"color: #00af00; text-decoration-color: #00af00\">10</span>)   │          <span style=\"color: #00af00; text-decoration-color: #00af00\">0</span> │ conv1d[<span style=\"color: #00af00; text-decoration-color: #00af00\">0</span>][<span style=\"color: #00af00; text-decoration-color: #00af00\">0</span>]      │\n",
       "│ (<span style=\"color: #0087ff; text-decoration-color: #0087ff\">LeakyReLU</span>)         │                   │            │                   │\n",
       "├─────────────────────┼───────────────────┼────────────┼───────────────────┤\n",
       "│ leaky_re_lu_1       │ (<span style=\"color: #00d7ff; text-decoration-color: #00d7ff\">None</span>, <span style=\"color: #00af00; text-decoration-color: #00af00\">500</span>, <span style=\"color: #00af00; text-decoration-color: #00af00\">10</span>)   │          <span style=\"color: #00af00; text-decoration-color: #00af00\">0</span> │ conv1d_1[<span style=\"color: #00af00; text-decoration-color: #00af00\">0</span>][<span style=\"color: #00af00; text-decoration-color: #00af00\">0</span>]    │\n",
       "│ (<span style=\"color: #0087ff; text-decoration-color: #0087ff\">LeakyReLU</span>)         │                   │            │                   │\n",
       "├─────────────────────┼───────────────────┼────────────┼───────────────────┤\n",
       "│ leaky_re_lu_2       │ (<span style=\"color: #00d7ff; text-decoration-color: #00d7ff\">None</span>, <span style=\"color: #00af00; text-decoration-color: #00af00\">500</span>, <span style=\"color: #00af00; text-decoration-color: #00af00\">10</span>)   │          <span style=\"color: #00af00; text-decoration-color: #00af00\">0</span> │ conv1d_2[<span style=\"color: #00af00; text-decoration-color: #00af00\">0</span>][<span style=\"color: #00af00; text-decoration-color: #00af00\">0</span>]    │\n",
       "│ (<span style=\"color: #0087ff; text-decoration-color: #0087ff\">LeakyReLU</span>)         │                   │            │                   │\n",
       "├─────────────────────┼───────────────────┼────────────┼───────────────────┤\n",
       "│ max_pooling1d       │ (<span style=\"color: #00d7ff; text-decoration-color: #00d7ff\">None</span>, <span style=\"color: #00af00; text-decoration-color: #00af00\">250</span>, <span style=\"color: #00af00; text-decoration-color: #00af00\">10</span>)   │          <span style=\"color: #00af00; text-decoration-color: #00af00\">0</span> │ leaky_re_lu[<span style=\"color: #00af00; text-decoration-color: #00af00\">0</span>][<span style=\"color: #00af00; text-decoration-color: #00af00\">0</span>] │\n",
       "│ (<span style=\"color: #0087ff; text-decoration-color: #0087ff\">MaxPooling1D</span>)      │                   │            │                   │\n",
       "├─────────────────────┼───────────────────┼────────────┼───────────────────┤\n",
       "│ max_pooling1d_1     │ (<span style=\"color: #00d7ff; text-decoration-color: #00d7ff\">None</span>, <span style=\"color: #00af00; text-decoration-color: #00af00\">250</span>, <span style=\"color: #00af00; text-decoration-color: #00af00\">10</span>)   │          <span style=\"color: #00af00; text-decoration-color: #00af00\">0</span> │ leaky_re_lu_1[<span style=\"color: #00af00; text-decoration-color: #00af00\">0</span>]… │\n",
       "│ (<span style=\"color: #0087ff; text-decoration-color: #0087ff\">MaxPooling1D</span>)      │                   │            │                   │\n",
       "├─────────────────────┼───────────────────┼────────────┼───────────────────┤\n",
       "│ max_pooling1d_2     │ (<span style=\"color: #00d7ff; text-decoration-color: #00d7ff\">None</span>, <span style=\"color: #00af00; text-decoration-color: #00af00\">250</span>, <span style=\"color: #00af00; text-decoration-color: #00af00\">10</span>)   │          <span style=\"color: #00af00; text-decoration-color: #00af00\">0</span> │ leaky_re_lu_2[<span style=\"color: #00af00; text-decoration-color: #00af00\">0</span>]… │\n",
       "│ (<span style=\"color: #0087ff; text-decoration-color: #0087ff\">MaxPooling1D</span>)      │                   │            │                   │\n",
       "├─────────────────────┼───────────────────┼────────────┼───────────────────┤\n",
       "│ batch_normalization │ (<span style=\"color: #00d7ff; text-decoration-color: #00d7ff\">None</span>, <span style=\"color: #00af00; text-decoration-color: #00af00\">250</span>, <span style=\"color: #00af00; text-decoration-color: #00af00\">10</span>)   │         <span style=\"color: #00af00; text-decoration-color: #00af00\">40</span> │ max_pooling1d[<span style=\"color: #00af00; text-decoration-color: #00af00\">0</span>]… │\n",
       "│ (<span style=\"color: #0087ff; text-decoration-color: #0087ff\">BatchNormalizatio…</span> │                   │            │                   │\n",
       "├─────────────────────┼───────────────────┼────────────┼───────────────────┤\n",
       "│ batch_normalizatio… │ (<span style=\"color: #00d7ff; text-decoration-color: #00d7ff\">None</span>, <span style=\"color: #00af00; text-decoration-color: #00af00\">250</span>, <span style=\"color: #00af00; text-decoration-color: #00af00\">10</span>)   │         <span style=\"color: #00af00; text-decoration-color: #00af00\">40</span> │ max_pooling1d_1[<span style=\"color: #00af00; text-decoration-color: #00af00\">…</span> │\n",
       "│ (<span style=\"color: #0087ff; text-decoration-color: #0087ff\">BatchNormalizatio…</span> │                   │            │                   │\n",
       "├─────────────────────┼───────────────────┼────────────┼───────────────────┤\n",
       "│ batch_normalizatio… │ (<span style=\"color: #00d7ff; text-decoration-color: #00d7ff\">None</span>, <span style=\"color: #00af00; text-decoration-color: #00af00\">250</span>, <span style=\"color: #00af00; text-decoration-color: #00af00\">10</span>)   │         <span style=\"color: #00af00; text-decoration-color: #00af00\">40</span> │ max_pooling1d_2[<span style=\"color: #00af00; text-decoration-color: #00af00\">…</span> │\n",
       "│ (<span style=\"color: #0087ff; text-decoration-color: #0087ff\">BatchNormalizatio…</span> │                   │            │                   │\n",
       "├─────────────────────┼───────────────────┼────────────┼───────────────────┤\n",
       "│ concatenate         │ (<span style=\"color: #00d7ff; text-decoration-color: #00d7ff\">None</span>, <span style=\"color: #00af00; text-decoration-color: #00af00\">250</span>, <span style=\"color: #00af00; text-decoration-color: #00af00\">30</span>)   │          <span style=\"color: #00af00; text-decoration-color: #00af00\">0</span> │ batch_normalizat… │\n",
       "│ (<span style=\"color: #0087ff; text-decoration-color: #0087ff\">Concatenate</span>)       │                   │            │ batch_normalizat… │\n",
       "│                     │                   │            │ batch_normalizat… │\n",
       "├─────────────────────┼───────────────────┼────────────┼───────────────────┤\n",
       "│ gru (<span style=\"color: #0087ff; text-decoration-color: #0087ff\">GRU</span>)           │ (<span style=\"color: #00d7ff; text-decoration-color: #00d7ff\">None</span>, <span style=\"color: #00af00; text-decoration-color: #00af00\">64</span>)        │     <span style=\"color: #00af00; text-decoration-color: #00af00\">18,432</span> │ concatenate[<span style=\"color: #00af00; text-decoration-color: #00af00\">0</span>][<span style=\"color: #00af00; text-decoration-color: #00af00\">0</span>] │\n",
       "├─────────────────────┼───────────────────┼────────────┼───────────────────┤\n",
       "│ dense (<span style=\"color: #0087ff; text-decoration-color: #0087ff\">Dense</span>)       │ (<span style=\"color: #00d7ff; text-decoration-color: #00d7ff\">None</span>, <span style=\"color: #00af00; text-decoration-color: #00af00\">64</span>)        │      <span style=\"color: #00af00; text-decoration-color: #00af00\">4,160</span> │ gru[<span style=\"color: #00af00; text-decoration-color: #00af00\">0</span>][<span style=\"color: #00af00; text-decoration-color: #00af00\">0</span>]         │\n",
       "├─────────────────────┼───────────────────┼────────────┼───────────────────┤\n",
       "│ dropout (<span style=\"color: #0087ff; text-decoration-color: #0087ff\">Dropout</span>)   │ (<span style=\"color: #00d7ff; text-decoration-color: #00d7ff\">None</span>, <span style=\"color: #00af00; text-decoration-color: #00af00\">64</span>)        │          <span style=\"color: #00af00; text-decoration-color: #00af00\">0</span> │ dense[<span style=\"color: #00af00; text-decoration-color: #00af00\">0</span>][<span style=\"color: #00af00; text-decoration-color: #00af00\">0</span>]       │\n",
       "├─────────────────────┼───────────────────┼────────────┼───────────────────┤\n",
       "│ dense_1 (<span style=\"color: #0087ff; text-decoration-color: #0087ff\">Dense</span>)     │ (<span style=\"color: #00d7ff; text-decoration-color: #00d7ff\">None</span>, <span style=\"color: #00af00; text-decoration-color: #00af00\">1</span>)         │         <span style=\"color: #00af00; text-decoration-color: #00af00\">65</span> │ dropout[<span style=\"color: #00af00; text-decoration-color: #00af00\">0</span>][<span style=\"color: #00af00; text-decoration-color: #00af00\">0</span>]     │\n",
       "└─────────────────────┴───────────────────┴────────────┴───────────────────┘\n",
       "</pre>\n"
      ],
      "text/plain": [
       "┏━━━━━━━━━━━━━━━━━━━━━┳━━━━━━━━━━━━━━━━━━━┳━━━━━━━━━━━━┳━━━━━━━━━━━━━━━━━━━┓\n",
       "┃\u001b[1m \u001b[0m\u001b[1mLayer (type)       \u001b[0m\u001b[1m \u001b[0m┃\u001b[1m \u001b[0m\u001b[1mOutput Shape     \u001b[0m\u001b[1m \u001b[0m┃\u001b[1m \u001b[0m\u001b[1m   Param #\u001b[0m\u001b[1m \u001b[0m┃\u001b[1m \u001b[0m\u001b[1mConnected to     \u001b[0m\u001b[1m \u001b[0m┃\n",
       "┡━━━━━━━━━━━━━━━━━━━━━╇━━━━━━━━━━━━━━━━━━━╇━━━━━━━━━━━━╇━━━━━━━━━━━━━━━━━━━┩\n",
       "│ input_layer         │ (\u001b[38;5;45mNone\u001b[0m, \u001b[38;5;34m500\u001b[0m, \u001b[38;5;34m1\u001b[0m)    │          \u001b[38;5;34m0\u001b[0m │ -                 │\n",
       "│ (\u001b[38;5;33mInputLayer\u001b[0m)        │                   │            │                   │\n",
       "├─────────────────────┼───────────────────┼────────────┼───────────────────┤\n",
       "│ zero_padding1d      │ (\u001b[38;5;45mNone\u001b[0m, \u001b[38;5;34m504\u001b[0m, \u001b[38;5;34m1\u001b[0m)    │          \u001b[38;5;34m0\u001b[0m │ input_layer[\u001b[38;5;34m0\u001b[0m][\u001b[38;5;34m0\u001b[0m] │\n",
       "│ (\u001b[38;5;33mZeroPadding1D\u001b[0m)     │                   │            │                   │\n",
       "├─────────────────────┼───────────────────┼────────────┼───────────────────┤\n",
       "│ zero_padding1d_1    │ (\u001b[38;5;45mNone\u001b[0m, \u001b[38;5;34m510\u001b[0m, \u001b[38;5;34m1\u001b[0m)    │          \u001b[38;5;34m0\u001b[0m │ input_layer[\u001b[38;5;34m0\u001b[0m][\u001b[38;5;34m0\u001b[0m] │\n",
       "│ (\u001b[38;5;33mZeroPadding1D\u001b[0m)     │                   │            │                   │\n",
       "├─────────────────────┼───────────────────┼────────────┼───────────────────┤\n",
       "│ zero_padding1d_2    │ (\u001b[38;5;45mNone\u001b[0m, \u001b[38;5;34m520\u001b[0m, \u001b[38;5;34m1\u001b[0m)    │          \u001b[38;5;34m0\u001b[0m │ input_layer[\u001b[38;5;34m0\u001b[0m][\u001b[38;5;34m0\u001b[0m] │\n",
       "│ (\u001b[38;5;33mZeroPadding1D\u001b[0m)     │                   │            │                   │\n",
       "├─────────────────────┼───────────────────┼────────────┼───────────────────┤\n",
       "│ conv1d (\u001b[38;5;33mConv1D\u001b[0m)     │ (\u001b[38;5;45mNone\u001b[0m, \u001b[38;5;34m500\u001b[0m, \u001b[38;5;34m10\u001b[0m)   │         \u001b[38;5;34m60\u001b[0m │ zero_padding1d[\u001b[38;5;34m0\u001b[0m… │\n",
       "├─────────────────────┼───────────────────┼────────────┼───────────────────┤\n",
       "│ conv1d_1 (\u001b[38;5;33mConv1D\u001b[0m)   │ (\u001b[38;5;45mNone\u001b[0m, \u001b[38;5;34m500\u001b[0m, \u001b[38;5;34m10\u001b[0m)   │        \u001b[38;5;34m120\u001b[0m │ zero_padding1d_1… │\n",
       "├─────────────────────┼───────────────────┼────────────┼───────────────────┤\n",
       "│ conv1d_2 (\u001b[38;5;33mConv1D\u001b[0m)   │ (\u001b[38;5;45mNone\u001b[0m, \u001b[38;5;34m500\u001b[0m, \u001b[38;5;34m10\u001b[0m)   │        \u001b[38;5;34m220\u001b[0m │ zero_padding1d_2… │\n",
       "├─────────────────────┼───────────────────┼────────────┼───────────────────┤\n",
       "│ leaky_re_lu         │ (\u001b[38;5;45mNone\u001b[0m, \u001b[38;5;34m500\u001b[0m, \u001b[38;5;34m10\u001b[0m)   │          \u001b[38;5;34m0\u001b[0m │ conv1d[\u001b[38;5;34m0\u001b[0m][\u001b[38;5;34m0\u001b[0m]      │\n",
       "│ (\u001b[38;5;33mLeakyReLU\u001b[0m)         │                   │            │                   │\n",
       "├─────────────────────┼───────────────────┼────────────┼───────────────────┤\n",
       "│ leaky_re_lu_1       │ (\u001b[38;5;45mNone\u001b[0m, \u001b[38;5;34m500\u001b[0m, \u001b[38;5;34m10\u001b[0m)   │          \u001b[38;5;34m0\u001b[0m │ conv1d_1[\u001b[38;5;34m0\u001b[0m][\u001b[38;5;34m0\u001b[0m]    │\n",
       "│ (\u001b[38;5;33mLeakyReLU\u001b[0m)         │                   │            │                   │\n",
       "├─────────────────────┼───────────────────┼────────────┼───────────────────┤\n",
       "│ leaky_re_lu_2       │ (\u001b[38;5;45mNone\u001b[0m, \u001b[38;5;34m500\u001b[0m, \u001b[38;5;34m10\u001b[0m)   │          \u001b[38;5;34m0\u001b[0m │ conv1d_2[\u001b[38;5;34m0\u001b[0m][\u001b[38;5;34m0\u001b[0m]    │\n",
       "│ (\u001b[38;5;33mLeakyReLU\u001b[0m)         │                   │            │                   │\n",
       "├─────────────────────┼───────────────────┼────────────┼───────────────────┤\n",
       "│ max_pooling1d       │ (\u001b[38;5;45mNone\u001b[0m, \u001b[38;5;34m250\u001b[0m, \u001b[38;5;34m10\u001b[0m)   │          \u001b[38;5;34m0\u001b[0m │ leaky_re_lu[\u001b[38;5;34m0\u001b[0m][\u001b[38;5;34m0\u001b[0m] │\n",
       "│ (\u001b[38;5;33mMaxPooling1D\u001b[0m)      │                   │            │                   │\n",
       "├─────────────────────┼───────────────────┼────────────┼───────────────────┤\n",
       "│ max_pooling1d_1     │ (\u001b[38;5;45mNone\u001b[0m, \u001b[38;5;34m250\u001b[0m, \u001b[38;5;34m10\u001b[0m)   │          \u001b[38;5;34m0\u001b[0m │ leaky_re_lu_1[\u001b[38;5;34m0\u001b[0m]… │\n",
       "│ (\u001b[38;5;33mMaxPooling1D\u001b[0m)      │                   │            │                   │\n",
       "├─────────────────────┼───────────────────┼────────────┼───────────────────┤\n",
       "│ max_pooling1d_2     │ (\u001b[38;5;45mNone\u001b[0m, \u001b[38;5;34m250\u001b[0m, \u001b[38;5;34m10\u001b[0m)   │          \u001b[38;5;34m0\u001b[0m │ leaky_re_lu_2[\u001b[38;5;34m0\u001b[0m]… │\n",
       "│ (\u001b[38;5;33mMaxPooling1D\u001b[0m)      │                   │            │                   │\n",
       "├─────────────────────┼───────────────────┼────────────┼───────────────────┤\n",
       "│ batch_normalization │ (\u001b[38;5;45mNone\u001b[0m, \u001b[38;5;34m250\u001b[0m, \u001b[38;5;34m10\u001b[0m)   │         \u001b[38;5;34m40\u001b[0m │ max_pooling1d[\u001b[38;5;34m0\u001b[0m]… │\n",
       "│ (\u001b[38;5;33mBatchNormalizatio…\u001b[0m │                   │            │                   │\n",
       "├─────────────────────┼───────────────────┼────────────┼───────────────────┤\n",
       "│ batch_normalizatio… │ (\u001b[38;5;45mNone\u001b[0m, \u001b[38;5;34m250\u001b[0m, \u001b[38;5;34m10\u001b[0m)   │         \u001b[38;5;34m40\u001b[0m │ max_pooling1d_1[\u001b[38;5;34m…\u001b[0m │\n",
       "│ (\u001b[38;5;33mBatchNormalizatio…\u001b[0m │                   │            │                   │\n",
       "├─────────────────────┼───────────────────┼────────────┼───────────────────┤\n",
       "│ batch_normalizatio… │ (\u001b[38;5;45mNone\u001b[0m, \u001b[38;5;34m250\u001b[0m, \u001b[38;5;34m10\u001b[0m)   │         \u001b[38;5;34m40\u001b[0m │ max_pooling1d_2[\u001b[38;5;34m…\u001b[0m │\n",
       "│ (\u001b[38;5;33mBatchNormalizatio…\u001b[0m │                   │            │                   │\n",
       "├─────────────────────┼───────────────────┼────────────┼───────────────────┤\n",
       "│ concatenate         │ (\u001b[38;5;45mNone\u001b[0m, \u001b[38;5;34m250\u001b[0m, \u001b[38;5;34m30\u001b[0m)   │          \u001b[38;5;34m0\u001b[0m │ batch_normalizat… │\n",
       "│ (\u001b[38;5;33mConcatenate\u001b[0m)       │                   │            │ batch_normalizat… │\n",
       "│                     │                   │            │ batch_normalizat… │\n",
       "├─────────────────────┼───────────────────┼────────────┼───────────────────┤\n",
       "│ gru (\u001b[38;5;33mGRU\u001b[0m)           │ (\u001b[38;5;45mNone\u001b[0m, \u001b[38;5;34m64\u001b[0m)        │     \u001b[38;5;34m18,432\u001b[0m │ concatenate[\u001b[38;5;34m0\u001b[0m][\u001b[38;5;34m0\u001b[0m] │\n",
       "├─────────────────────┼───────────────────┼────────────┼───────────────────┤\n",
       "│ dense (\u001b[38;5;33mDense\u001b[0m)       │ (\u001b[38;5;45mNone\u001b[0m, \u001b[38;5;34m64\u001b[0m)        │      \u001b[38;5;34m4,160\u001b[0m │ gru[\u001b[38;5;34m0\u001b[0m][\u001b[38;5;34m0\u001b[0m]         │\n",
       "├─────────────────────┼───────────────────┼────────────┼───────────────────┤\n",
       "│ dropout (\u001b[38;5;33mDropout\u001b[0m)   │ (\u001b[38;5;45mNone\u001b[0m, \u001b[38;5;34m64\u001b[0m)        │          \u001b[38;5;34m0\u001b[0m │ dense[\u001b[38;5;34m0\u001b[0m][\u001b[38;5;34m0\u001b[0m]       │\n",
       "├─────────────────────┼───────────────────┼────────────┼───────────────────┤\n",
       "│ dense_1 (\u001b[38;5;33mDense\u001b[0m)     │ (\u001b[38;5;45mNone\u001b[0m, \u001b[38;5;34m1\u001b[0m)         │         \u001b[38;5;34m65\u001b[0m │ dropout[\u001b[38;5;34m0\u001b[0m][\u001b[38;5;34m0\u001b[0m]     │\n",
       "└─────────────────────┴───────────────────┴────────────┴───────────────────┘\n"
      ]
     },
     "metadata": {},
     "output_type": "display_data"
    },
    {
     "data": {
      "text/html": [
       "<pre style=\"white-space:pre;overflow-x:auto;line-height:normal;font-family:Menlo,'DejaVu Sans Mono',consolas,'Courier New',monospace\"><span style=\"font-weight: bold\"> Total params: </span><span style=\"color: #00af00; text-decoration-color: #00af00\">23,177</span> (90.54 KB)\n",
       "</pre>\n"
      ],
      "text/plain": [
       "\u001b[1m Total params: \u001b[0m\u001b[38;5;34m23,177\u001b[0m (90.54 KB)\n"
      ]
     },
     "metadata": {},
     "output_type": "display_data"
    },
    {
     "data": {
      "text/html": [
       "<pre style=\"white-space:pre;overflow-x:auto;line-height:normal;font-family:Menlo,'DejaVu Sans Mono',consolas,'Courier New',monospace\"><span style=\"font-weight: bold\"> Trainable params: </span><span style=\"color: #00af00; text-decoration-color: #00af00\">23,117</span> (90.30 KB)\n",
       "</pre>\n"
      ],
      "text/plain": [
       "\u001b[1m Trainable params: \u001b[0m\u001b[38;5;34m23,117\u001b[0m (90.30 KB)\n"
      ]
     },
     "metadata": {},
     "output_type": "display_data"
    },
    {
     "data": {
      "text/html": [
       "<pre style=\"white-space:pre;overflow-x:auto;line-height:normal;font-family:Menlo,'DejaVu Sans Mono',consolas,'Courier New',monospace\"><span style=\"font-weight: bold\"> Non-trainable params: </span><span style=\"color: #00af00; text-decoration-color: #00af00\">60</span> (240.00 B)\n",
       "</pre>\n"
      ],
      "text/plain": [
       "\u001b[1m Non-trainable params: \u001b[0m\u001b[38;5;34m60\u001b[0m (240.00 B)\n"
      ]
     },
     "metadata": {},
     "output_type": "display_data"
    }
   ],
   "source": [
    "input_shape = (500, 1)\n",
    "cnn_model = build_cnn_model(input_shape)\n",
    "cnn_model.summary()"
   ]
  },
  {
   "cell_type": "markdown",
   "id": "53b2c817-51a2-4be8-aeda-5a542cbf3a63",
   "metadata": {},
   "source": [
    "## Spindle detection"
   ]
  },
  {
   "cell_type": "code",
   "execution_count": 5,
   "id": "af5e5195-92c8-479f-990e-9b11087f959c",
   "metadata": {},
   "outputs": [],
   "source": [
    "#import scipy.signal as signal\n",
    "#from scipy.signal import find_peaks\n",
    "\n",
    "def detect_spindles_times(eeg_raw):\n",
    "    # Parameters\n",
    "    #channel = 'Fz'\n",
    "    \n",
    "    # 1. Filter between 12 and 16 Hz\n",
    "    \n",
    "    filtered_data = eeg_raw.copy().pick_channels(['Fz'])\n",
    "    filtered_data.filter(l_freq=12, h_freq=16)\n",
    "    \n",
    "    # 2. Downsample at 100 Hz (100 samples per second)\n",
    "    \n",
    "    #filtered_data.resample(100)\n",
    "    sfreq = filtered_data.info['sfreq']  \n",
    "    # update to new sampling frequency\n",
    "    # because used later in the code\n",
    "    channel_data = filtered_data.get_data()[0]\n",
    "    # extract the filtered data\n",
    "    \n",
    "    \n",
    "    # 3: Calculate amplitude by applying Hilbert transformation\n",
    "\n",
    "    hilbert_signal = hilbert(channel_data)\n",
    "    # apply hilbert transformation to bandpassed data\n",
    "    # gives analytic signal with amplitude and phase information\n",
    "    envelope = np.abs(hilbert_signal)\n",
    "    # take the absolute part of the hilbert signal\n",
    "    # also the instantaneous power of the signal\n",
    "    # gives the envelope: amplitude modulation\n",
    "    # how strength of oscillations change over time\n",
    "    # size of sliding window\n",
    "    \n",
    "    # 4: Perform smoothing with a sliding window of 0.2 seconds\n",
    "    # this removes high-frequency noise\n",
    "    \n",
    "    sliding_window = int(0.2 * sfreq)\n",
    "    smoothed_envelope = np.convolve(envelope, np.ones(sliding_window) / sliding_window, mode='same')\n",
    "    # convolving envelope with a uniform filter over the sliding window\n",
    "    # convolution takes rolling average of 20 samples at a time\n",
    "    # smooth the signal with the average of values in the window\n",
    "    # in the smoothed envelope, can detect regions with higher amplitude \n",
    "    # which is when a spindle event occurs\n",
    "    # np.ones: creates a filter kernel\n",
    "    # have a filter where the sum of all elements equals 1\n",
    "    # this filter is replaced by the average of the 20 surrounding samples\n",
    "    # convolution between envelope and averaging filter\n",
    "    # mode = 'same': so that output of convolution has same length as original envelope\n",
    "\n",
    "    # 5. Define spindle detection threshold\n",
    "\n",
    "    threshold = np.percentile(smoothed_envelope, 75)\n",
    "    spindle_threshold = smoothed_envelope > threshold\n",
    "    #threshold = np.mean(smoothed_envelope) + 1.5 * np.std(smoothed_envelope)\n",
    "    #spindle_threshold = smoothed_envelope > threshold\n",
    "    # threshold is 75th percentile of the smoothed envelope\n",
    "    # will look at the duration later\n",
    "    \n",
    "    # 6. Detect spindles and define peaks and troughs for visualisation\n",
    "    \n",
    "    spindles = []\n",
    "    # initialize list with spindles\n",
    "    above_threshold = np.where(spindle_threshold)[0]\n",
    "    # returns indices where signal above the threshold\n",
    "    stacked_spindles = []\n",
    "    # initialize list for stacking the spindles for the visualisation\n",
    "    # contains aligned spindles at peak\n",
    "    \n",
    "    if len(above_threshold) > 0:\n",
    "        # checking it's not empty\n",
    "        start_idx = above_threshold[0]\n",
    "        # would be the start of a potential spindle\n",
    "        for i in range(1, len(above_threshold)):\n",
    "            if above_threshold[i] > above_threshold[i - 1] + 1:  \n",
    "                # if above threshold[1] > above_threshold[0] + 1\n",
    "                # because all indices should be separated by 1\n",
    "                # so here detects gaps\n",
    "                # so starting from the second index\n",
    "                # and comparing each index to the one before\n",
    "                end_idx = above_threshold[i - 1]\n",
    "                # so if above condition is true, this is the end of the spindle\n",
    "                duration = (end_idx - start_idx) / sfreq\n",
    "                if 0.5 <= duration <= 3:\n",
    "                    # only keep spindles lasting 0.5 to 3 seconds\n",
    "                    segment = channel_data[start_idx:end_idx]\n",
    "                    # extract EEG segment corresponding to detected spindle\n",
    "                    peak_idx = start_idx + np.argmax(segment) \n",
    "                    # extract the peak of the spindle\n",
    "                    # this will be useful for later\n",
    "                    spindles.append((start_idx / sfreq, end_idx / sfreq))\n",
    "                    # all the spindles are stored in spindles\n",
    "                    \n",
    "                    # Aligning spindles at peak for visualization\n",
    "                    before_peak_idx = max(0, peak_idx - int(1.5 * sfreq))\n",
    "                    # still in the for loop, so this is the peak index of individual peak\n",
    "                    after_peak_idx = min(len(channel_data), peak_idx + int(1.5 * sfreq))\n",
    "                    # extracting 1.5 seconds before and after peak\n",
    "                    # max and min are used for out of bounds situations at the start and end of EEG data\n",
    "                    aligned_segment = channel_data[before_peak_idx:after_peak_idx]\n",
    "                    stacked_spindles.append(aligned_segment)\n",
    "                    # the aligned segment is saved in stacked spindles\n",
    "                \n",
    "                start_idx = above_threshold[i]\n",
    "                # update the start index for the for loop\n",
    "\n",
    "        # then need to process the final spindle\n",
    "        end_idx = above_threshold[-1]\n",
    "        duration = (end_idx - start_idx) / sfreq\n",
    "        if 0.5 <= duration <= 3:\n",
    "            segment = channel_data[start_idx:end_idx]\n",
    "            peak_idx = start_idx + np.argmax(segment)\n",
    "            spindles.append((start_idx / sfreq, end_idx / sfreq))\n",
    "\n",
    "            before_peak_idx = max(0, peak_idx - int(1.5 * sfreq))\n",
    "            after_peak_idx = min(len(channel_data), peak_idx + int(1.5 * sfreq))\n",
    "            aligned_segment = channel_data[before_peak_idx:after_peak_idx]\n",
    "            stacked_spindles.append(aligned_segment)\n",
    "    \n",
    "    return spindles"
   ]
  },
  {
   "cell_type": "code",
   "execution_count": 6,
   "id": "ddeb1fb0-1ab5-4d96-bad2-975f95f2e9a8",
   "metadata": {},
   "outputs": [],
   "source": [
    "import scipy.signal as signal\n",
    "from scipy.signal import find_peaks\n",
    "\n",
    "def detect_spindles_peaks(eeg_raw):\n",
    "    # Parameters\n",
    "    #channel = 'Fz'\n",
    "    \n",
    "    # 1. Filter between 12 and 16 Hz\n",
    "    \n",
    "    filtered_data = eeg_raw.copy().pick_channels(['Fz'])\n",
    "    filtered_data.filter(l_freq=12, h_freq=16)\n",
    "    \n",
    "    # 2. Downsample at 100 Hz (100 samples per second)\n",
    "    \n",
    "    #filtered_data.resample(100)\n",
    "    sfreq = filtered_data.info['sfreq']  \n",
    "    # update to new sampling frequency\n",
    "    # because used later in the code\n",
    "    channel_data = filtered_data.get_data()[0]\n",
    "    # extract the filtered data\n",
    "    \n",
    "    # 3: Calculate amplitude by applying Hilbert transformation\n",
    "\n",
    "    hilbert_signal = hilbert(channel_data)\n",
    "    # apply hilbert transformation to bandpassed data\n",
    "    # gives analytic signal with amplitude and phase information\n",
    "    envelope = np.abs(hilbert_signal)\n",
    "    # take the absolute part of the hilbert signal\n",
    "    # also the instantaneous power of the signal\n",
    "    # gives the envelope: amplitude modulation\n",
    "    # how strength of oscillations change over time\n",
    "    # size of sliding window\n",
    "    \n",
    "    # 4: Perform smoothing with a sliding window of 0.2 seconds\n",
    "    # this removes high-frequency noise\n",
    "    \n",
    "    sliding_window = int(0.2 * sfreq)\n",
    "    smoothed_envelope = np.convolve(envelope, np.ones(sliding_window) / sliding_window, mode='same')\n",
    "    # convolving envelope with a uniform filter over the sliding window\n",
    "    # convolution takes rolling average of 20 samples at a time\n",
    "    # smooth the signal with the average of values in the window\n",
    "    # in the smoothed envelope, can detect regions with higher amplitude \n",
    "    # which is when a spindle event occurs\n",
    "    # np.ones: creates a filter kernel\n",
    "    # have a filter where the sum of all elements equals 1\n",
    "    # this filter is replaced by the average of the 20 surrounding samples\n",
    "    # convolution between envelope and averaging filter\n",
    "    # mode = 'same': so that output of convolution has same length as original envelope\n",
    "\n",
    "    # 5. Define spindle detection threshold\n",
    "\n",
    "    threshold = np.percentile(smoothed_envelope, 75)\n",
    "    spindle_threshold = smoothed_envelope > threshold\n",
    "    # 75th percentile as criteria\n",
    "\n",
    "    #threshold = np.mean(smoothed_envelope) + 1.5 * np.std(smoothed_envelope)\n",
    "    #spindle_threshold = smoothed_envelope > threshold\n",
    "    \n",
    "    # 6. Detect spindles and define peaks and troughs for visualisation\n",
    "    \n",
    "    spindles = []\n",
    "    # initialize list with spindles\n",
    "    above_threshold = np.where(spindle_threshold)[0]\n",
    "    # returns indices where signal above the threshold\n",
    "    stacked_spindles = []\n",
    "    # initialize list for stacking the spindles for the visualisation\n",
    "    # contains aligned spindles at peak\n",
    "    \n",
    "    if len(above_threshold) > 0:\n",
    "        # checking it's not empty\n",
    "        start_idx = above_threshold[0]\n",
    "        # would be the start of a potential spindle\n",
    "        for i in range(1, len(above_threshold)):\n",
    "            if above_threshold[i] > above_threshold[i - 1] + 1:  \n",
    "                # if above threshold[1] > above_threshold[0] + 1\n",
    "                # because all indices should be separated by 1\n",
    "                # so here detects gaps\n",
    "                end_idx = above_threshold[i - 1]\n",
    "                # so if above condition is true, this is the end of the spindle\n",
    "                duration = (end_idx - start_idx) / sfreq\n",
    "                if 0.5 <= duration <= 3:\n",
    "                    # only keep spindles lasting 0.5 to 3 seconds\n",
    "                    segment = channel_data[start_idx:end_idx]\n",
    "                    # extract EEG segment corresponding to detected spindle\n",
    "                    peak_idx = start_idx + np.argmax(segment) \n",
    "                    # extract the peak of the spindle\n",
    "                    # this will be useful for later\n",
    "                    #spindles.append(f\"Spindle detected from {start_idx / sfreq:.2f}s to {end_idx / sfreq:.2f}s, peak at {peak_idx / sfreq:.2f}s\")\n",
    "                    spindles.append((peak_idx / sfreq))\n",
    "                    # all the spindles are stored in spindles\n",
    "                    \n",
    "                    # Aligning spindles at peak for visualization\n",
    "                    before_peak_idx = max(0, peak_idx - int(1.5 * sfreq))\n",
    "                    # still in the for loop, so this is the peak index of individual peak\n",
    "                    after_peak_idx = min(len(channel_data), peak_idx + int(1.5 * sfreq))\n",
    "                    # extracting 1.5 seconds before and after peak\n",
    "                    # max and min are used for out of bounds situations at the start and end of EEG data\n",
    "                    aligned_segment = channel_data[before_peak_idx:after_peak_idx]\n",
    "                    stacked_spindles.append(aligned_segment)\n",
    "                    # the aligned segment is saved in stacked spindles\n",
    "                \n",
    "                start_idx = above_threshold[i]\n",
    "                # update the start index for the for loop\n",
    "\n",
    "        # then need to process the final spindle\n",
    "        end_idx = above_threshold[-1]\n",
    "        duration = (end_idx - start_idx) / sfreq\n",
    "        if 0.5 <= duration <= 3:\n",
    "            segment = channel_data[start_idx:end_idx]\n",
    "            peak_idx = start_idx + np.argmax(segment)\n",
    "            spindles.append((peak_idx / sfreq))\n",
    "\n",
    "            before_peak_idx = max(0, peak_idx - int(1.5 * sfreq))\n",
    "            after_peak_idx = min(len(channel_data), peak_idx + int(1.5 * sfreq))\n",
    "            aligned_segment = channel_data[before_peak_idx:after_peak_idx]\n",
    "            stacked_spindles.append(aligned_segment)\n",
    "\n",
    "    \n",
    "    return spindles"
   ]
  },
  {
   "cell_type": "markdown",
   "id": "8cf953e1-3c1a-4dcc-af03-24badf78ae4e",
   "metadata": {},
   "source": [
    "## Epochs "
   ]
  },
  {
   "cell_type": "markdown",
   "id": "6b2bac53-f15f-4c2a-806e-a768d9b14436",
   "metadata": {},
   "source": [
    "### Create fixed length epochs"
   ]
  },
  {
   "cell_type": "code",
   "execution_count": 7,
   "id": "3d92f83d-f19a-4e03-b69c-fa9dc691eb2a",
   "metadata": {},
   "outputs": [],
   "source": [
    "\n",
    "def create_fixed_length_epochs(raw, duration=1.0, overlap=0.0, preload=True, reject_by_annotation=False):\n",
    "\n",
    "    return mne.make_fixed_length_epochs(\n",
    "        raw,\n",
    "        duration=duration,\n",
    "        overlap=overlap,\n",
    "        preload=preload,\n",
    "        reject_by_annotation=reject_by_annotation\n",
    "    )"
   ]
  },
  {
   "cell_type": "markdown",
   "id": "51c46173-574f-4aeb-8c5d-fd70f5a67219",
   "metadata": {},
   "source": [
    "### Epoch labels"
   ]
  },
  {
   "cell_type": "code",
   "execution_count": 8,
   "id": "8e6819ca-c091-49d6-b739-e165aac38032",
   "metadata": {},
   "outputs": [],
   "source": [
    "def label_spindle_epochs(epochs, spindle_starts, spindle_ends, epoch_length_sec=1):\n",
    "\n",
    "    epoch_starts = np.arange(len(epochs)) * epoch_length_sec\n",
    "    # new np array with the start time of each epoch\n",
    "    # epoch_starts[i] is the start time of each epoch\n",
    "\n",
    "    epoch_labels = np.zeros(len(epochs), dtype=int)\n",
    "    # initialize all the labels as 0 initially\n",
    "\n",
    "    for start, end in zip(spindle_starts, spindle_ends):\n",
    "        # loop through the start and end times of detected spindles by YASA\n",
    "        for i, epoch_start in enumerate(epoch_starts):\n",
    "            # loop through the one-second epochs that are not labelled yet\n",
    "            epoch_end = epoch_start + epoch_length_sec\n",
    "            # for each epoch, calculate the epoch end time\n",
    "            # which is epoch_start + length of epoch\n",
    "            # so now have the time range of each epoch\n",
    "            if (start < epoch_end) and (end > epoch_start):\n",
    "                # if the spindle started before the epoch ends\n",
    "                # and the spindle ended after the epoch started\n",
    "                epoch_labels[i] = 1\n",
    "                \n",
    "    return epoch_labels"
   ]
  },
  {
   "cell_type": "markdown",
   "id": "9e790f9a-6803-4555-ada4-d8f7cb39c50c",
   "metadata": {
    "jp-MarkdownHeadingCollapsed": true
   },
   "source": [
    "## Participant 067"
   ]
  },
  {
   "cell_type": "markdown",
   "id": "dd4e0ab9-9ab5-4424-bc2f-0657d9702125",
   "metadata": {
    "jp-MarkdownHeadingCollapsed": true
   },
   "source": [
    "### Importing concatenated data"
   ]
  },
  {
   "cell_type": "code",
   "execution_count": 9,
   "id": "bd108536-20c6-4219-80e8-b4653cbf118e",
   "metadata": {},
   "outputs": [
    {
     "name": "stdout",
     "output_type": "stream",
     "text": [
      "Opening raw data file C:\\EEG DATA\\067\\concatenated\\067_concatenated_raw.fif...\n",
      "Isotrak not found\n",
      "    Range : 825000 ... 9180031 =   1650.000 ... 18360.062 secs\n",
      "Ready.\n",
      "Reading 0 ... 8355031  =      0.000 ... 16710.062 secs...\n"
     ]
    }
   ],
   "source": [
    "participant_067_concatenated_file = r\"C:\\EEG DATA\\067\\concatenated\\067_concatenated_raw.fif\"\n",
    "combined_raw_067 = mne.io.read_raw_fif(participant_067_concatenated_file, preload=True)"
   ]
  },
  {
   "cell_type": "markdown",
   "id": "01a5e3c1-5a99-43fe-9084-2faab5ba12bc",
   "metadata": {},
   "source": [
    "### Spindle detection"
   ]
  },
  {
   "cell_type": "code",
   "execution_count": 10,
   "id": "65eaf3ab-10f4-45aa-9866-3db3b35323dc",
   "metadata": {},
   "outputs": [
    {
     "name": "stdout",
     "output_type": "stream",
     "text": [
      "NOTE: pick_channels() is a legacy function. New code should use inst.pick(...).\n",
      "Filtering raw data in 32 contiguous segments\n",
      "Setting up band-pass filter from 12 - 16 Hz\n",
      "\n",
      "FIR filter parameters\n",
      "---------------------\n",
      "Designing a one-pass, zero-phase, non-causal bandpass filter:\n",
      "- Windowed time-domain design (firwin) method\n",
      "- Hamming window with 0.0194 passband ripple and 53 dB stopband attenuation\n",
      "- Lower passband edge: 12.00\n",
      "- Lower transition bandwidth: 3.00 Hz (-6 dB cutoff frequency: 10.50 Hz)\n",
      "- Upper passband edge: 16.00 Hz\n",
      "- Upper transition bandwidth: 4.00 Hz (-6 dB cutoff frequency: 18.00 Hz)\n",
      "- Filter length: 551 samples (1.102 s)\n",
      "\n"
     ]
    }
   ],
   "source": [
    "spindles_067_times = detect_spindles_times(combined_raw_067)"
   ]
  },
  {
   "cell_type": "code",
   "execution_count": 11,
   "id": "327bae47-564b-4648-b1f6-d660fd2df5af",
   "metadata": {},
   "outputs": [
    {
     "data": {
      "text/plain": [
       "2912"
      ]
     },
     "execution_count": 11,
     "metadata": {},
     "output_type": "execute_result"
    }
   ],
   "source": [
    "len(spindles_067_times)"
   ]
  },
  {
   "cell_type": "code",
   "execution_count": 12,
   "id": "81a2af56-80a5-4662-8cda-e90a2a063238",
   "metadata": {},
   "outputs": [],
   "source": [
    "spindles_starts_067, spindles_ends_067 = zip(*spindles_067_times) if spindles_067_times else([],[])\n",
    "# splits the spindle list into two list\n",
    "# one with all the spindle starts\n",
    "# and one with all the spindle ends\n",
    "\n",
    "# if statement is in case found no spindles\n",
    "# would just return empty lists"
   ]
  },
  {
   "cell_type": "code",
   "execution_count": 13,
   "id": "4a4b59d1-4cb2-4494-8d3e-4f1b98ee860f",
   "metadata": {},
   "outputs": [
    {
     "name": "stdout",
     "output_type": "stream",
     "text": [
      "2912\n",
      "2912\n"
     ]
    }
   ],
   "source": [
    "print(len(spindles_starts_067))\n",
    "print(len(spindles_ends_067))"
   ]
  },
  {
   "cell_type": "markdown",
   "id": "1d534e99-7150-4f09-85d4-eb628d76b4c6",
   "metadata": {
    "jp-MarkdownHeadingCollapsed": true
   },
   "source": [
    "## Epoch the data"
   ]
  },
  {
   "cell_type": "markdown",
   "id": "f360952a-8ed8-40b7-a0d4-95daa6f0530b",
   "metadata": {},
   "source": [
    "### Define 1-second epochs of EEG data"
   ]
  },
  {
   "cell_type": "code",
   "execution_count": 14,
   "id": "83786de4-5e79-423b-9fe9-7de8313c5f8c",
   "metadata": {},
   "outputs": [
    {
     "name": "stdout",
     "output_type": "stream",
     "text": [
      "Not setting metadata\n",
      "16710 matching events found\n",
      "No baseline correction applied\n",
      "0 projection items activated\n",
      "Using data from preloaded Raw for 16710 events and 500 original time points ...\n",
      "0 bad epochs dropped\n"
     ]
    }
   ],
   "source": [
    "# use mne function to make epochs\n",
    "\n",
    "epochs_067 = create_fixed_length_epochs(combined_raw_067)\n",
    "# don't reject bad epochs to ensure that matches with spindles data"
   ]
  },
  {
   "cell_type": "code",
   "execution_count": 15,
   "id": "083c71a9-8133-4132-856a-b634f7c91fd3",
   "metadata": {},
   "outputs": [
    {
     "data": {
      "text/plain": [
       "(16710, 1, 500)"
      ]
     },
     "execution_count": 15,
     "metadata": {},
     "output_type": "execute_result"
    }
   ],
   "source": [
    "epochs_067.get_data().shape"
   ]
  },
  {
   "cell_type": "code",
   "execution_count": 16,
   "id": "2df74595-83ac-48b7-a35a-15f356707b86",
   "metadata": {},
   "outputs": [],
   "source": [
    "#epochs_067._data *= 1e6\n",
    "\n",
    "# to convert from volts to microvolts\n",
    "# otherwise units are really small and harder to detect events for CNN model"
   ]
  },
  {
   "cell_type": "markdown",
   "id": "860b2ba3-8d71-4a08-91a4-e7e818486abb",
   "metadata": {
    "jp-MarkdownHeadingCollapsed": true
   },
   "source": [
    "###  Define labels for each 1-second epoch"
   ]
  },
  {
   "cell_type": "code",
   "execution_count": 17,
   "id": "9ee7a252-b60c-4acf-958f-33d6f699d62d",
   "metadata": {},
   "outputs": [],
   "source": [
    "epoch_labels_067 = label_spindle_epochs(epochs_067, spindles_starts_067, spindles_ends_067)"
   ]
  },
  {
   "cell_type": "code",
   "execution_count": 18,
   "id": "4e8df6e1-f5fb-4203-9048-3e0798757652",
   "metadata": {},
   "outputs": [
    {
     "data": {
      "text/plain": [
       "array([0, 0, 0, 0, 0, 0, 0, 0, 0, 0, 0, 0, 0, 0, 0, 0, 0, 0, 0, 0, 0, 0,\n",
       "       0, 0, 0, 0, 0, 0, 0, 1])"
      ]
     },
     "execution_count": 18,
     "metadata": {},
     "output_type": "execute_result"
    }
   ],
   "source": [
    "epoch_labels_067[:30]"
   ]
  },
  {
   "cell_type": "code",
   "execution_count": 19,
   "id": "24d93cee-2bba-477c-b10c-f65522b60c36",
   "metadata": {},
   "outputs": [
    {
     "data": {
      "text/plain": [
       "(np.float64(29.872),\n",
       " np.float64(47.342),\n",
       " np.float64(49.626),\n",
       " np.float64(61.314),\n",
       " np.float64(78.548),\n",
       " np.float64(87.148),\n",
       " np.float64(87.89),\n",
       " np.float64(97.47),\n",
       " np.float64(112.362),\n",
       " np.float64(119.904))"
      ]
     },
     "execution_count": 19,
     "metadata": {},
     "output_type": "execute_result"
    }
   ],
   "source": [
    "spindles_starts_067[:10]"
   ]
  },
  {
   "cell_type": "code",
   "execution_count": 20,
   "id": "17bd5595-6993-4327-8460-9332fa4ef37b",
   "metadata": {},
   "outputs": [
    {
     "data": {
      "text/plain": [
       "(np.float64(30.49),\n",
       " np.float64(47.844),\n",
       " np.float64(50.196),\n",
       " np.float64(62.216),\n",
       " np.float64(79.516),\n",
       " np.float64(87.656),\n",
       " np.float64(90.13),\n",
       " np.float64(98.174),\n",
       " np.float64(114.392),\n",
       " np.float64(120.946))"
      ]
     },
     "execution_count": 20,
     "metadata": {},
     "output_type": "execute_result"
    }
   ],
   "source": [
    "spindles_ends_067[:10]"
   ]
  },
  {
   "cell_type": "markdown",
   "id": "26bf26f5-4cdb-44d4-8a92-0f7d419cb38d",
   "metadata": {},
   "source": [
    "## Building the CNN"
   ]
  },
  {
   "cell_type": "markdown",
   "id": "1f41e56c-5f6f-4e1b-8e6a-ffa67ad16084",
   "metadata": {
    "jp-MarkdownHeadingCollapsed": true
   },
   "source": [
    "### Prepare EEG data for CNN input"
   ]
  },
  {
   "cell_type": "markdown",
   "id": "4720cd3a-1eaf-496f-bb15-58ce33d4687b",
   "metadata": {
    "jp-MarkdownHeadingCollapsed": true
   },
   "source": [
    "### Build the model"
   ]
  },
  {
   "cell_type": "code",
   "execution_count": 21,
   "id": "22f98d76-e4a5-4aab-9522-7b6a0f942dc7",
   "metadata": {},
   "outputs": [
    {
     "name": "stdout",
     "output_type": "stream",
     "text": [
      "(16710, 500, 1)\n",
      "(16710,)\n"
     ]
    }
   ],
   "source": [
    "epochs_067_np = np.array(epochs_067)\n",
    "epochs_067_np = epochs_067_np.squeeze(axis=1)\n",
    "# reshape to go from (16710, 1, 100) to (16710, 100)\n",
    "epochs_067_np = epochs_067_np[..., np.newaxis]\n",
    "print(epochs_067_np.shape)\n",
    "print(epoch_labels_067.shape)"
   ]
  },
  {
   "cell_type": "code",
   "execution_count": 22,
   "id": "4cb2ef62-ffb1-4bd5-ab4b-78e16745a550",
   "metadata": {},
   "outputs": [
    {
     "data": {
      "text/plain": [
       "array([[[ 1.80000003e+01],\n",
       "        [ 1.82500003e+01],\n",
       "        [ 1.55500002e+01],\n",
       "        [ 1.48500002e+01],\n",
       "        [ 1.74000003e+01],\n",
       "        [ 1.49500002e+01],\n",
       "        [ 1.33000002e+01],\n",
       "        [ 1.59500002e+01],\n",
       "        [ 1.81000003e+01],\n",
       "        [ 1.54500002e+01],\n",
       "        [ 1.77000003e+01],\n",
       "        [ 2.23000003e+01],\n",
       "        [ 2.13500003e+01],\n",
       "        [ 1.94000003e+01],\n",
       "        [ 2.11000003e+01],\n",
       "        [ 1.81500003e+01],\n",
       "        [ 1.56000002e+01],\n",
       "        [ 1.65500002e+01],\n",
       "        [ 1.74000003e+01],\n",
       "        [ 1.66000002e+01],\n",
       "        [ 2.03000003e+01],\n",
       "        [ 2.11000003e+01],\n",
       "        [ 1.78000003e+01],\n",
       "        [ 1.60500002e+01],\n",
       "        [ 1.42500002e+01],\n",
       "        [ 7.05000011e+00],\n",
       "        [ 2.10000003e+00],\n",
       "        [ 1.30000002e+00],\n",
       "        [ 5.50000008e-01],\n",
       "        [-1.95000003e+00],\n",
       "        [ 3.50000005e-01],\n",
       "        [ 1.20000002e+00],\n",
       "        [-4.90000007e+00],\n",
       "        [-8.65000013e+00],\n",
       "        [-6.70000010e+00],\n",
       "        [-1.00000001e+01],\n",
       "        [-1.07000002e+01],\n",
       "        [-9.20000014e+00],\n",
       "        [-8.40000013e+00],\n",
       "        [-5.70000008e+00],\n",
       "        [-1.20000002e+00],\n",
       "        [ 1.90000003e+00],\n",
       "        [ 3.50000005e-01],\n",
       "        [-8.50000013e-01],\n",
       "        [ 1.80000003e+00],\n",
       "        [-3.00000004e-01],\n",
       "        [-1.25000002e+00],\n",
       "        [-1.50000002e-01],\n",
       "        [ 8.00000012e-01],\n",
       "        [ 3.00000004e-01],\n",
       "        [ 3.15000005e+00],\n",
       "        [ 4.65000007e+00],\n",
       "        [ 5.00000007e+00],\n",
       "        [ 2.15000003e+00],\n",
       "        [ 1.65000002e+00],\n",
       "        [-3.90000006e+00],\n",
       "        [-7.90000012e+00],\n",
       "        [-4.40000007e+00],\n",
       "        [-1.55000002e+00],\n",
       "        [-2.10000003e+00],\n",
       "        [ 2.00000003e-01],\n",
       "        [ 1.65000002e+00],\n",
       "        [-1.50000002e-01],\n",
       "        [-2.40000004e+00],\n",
       "        [-2.65000004e+00],\n",
       "        [-6.15000009e+00],\n",
       "        [-7.85000012e+00],\n",
       "        [-7.15000011e+00],\n",
       "        [-3.45000005e+00],\n",
       "        [-4.45000007e+00],\n",
       "        [-1.90000003e+00],\n",
       "        [-3.50000005e-01],\n",
       "        [-2.05000003e+00],\n",
       "        [-3.60000005e+00],\n",
       "        [-2.75000004e+00],\n",
       "        [-4.55000007e+00],\n",
       "        [-3.05000005e+00],\n",
       "        [ 0.00000000e+00],\n",
       "        [ 2.85000004e+00],\n",
       "        [ 5.50000008e-01],\n",
       "        [ 1.80000003e+00],\n",
       "        [ 2.15000003e+00],\n",
       "        [ 1.00000001e+00],\n",
       "        [-7.50000011e-01],\n",
       "        [ 9.00000013e-01],\n",
       "        [-2.75000004e+00],\n",
       "        [-4.40000007e+00],\n",
       "        [-1.40000002e+00],\n",
       "        [-5.00000007e-02],\n",
       "        [-3.60000005e+00],\n",
       "        [-1.85000003e+00],\n",
       "        [ 3.00000004e-01],\n",
       "        [-1.00000001e+00],\n",
       "        [-5.10000008e+00],\n",
       "        [-5.85000009e+00],\n",
       "        [-8.45000013e+00],\n",
       "        [-8.30000012e+00],\n",
       "        [-5.50000008e+00],\n",
       "        [-3.45000005e+00],\n",
       "        [-4.90000007e+00],\n",
       "        [-1.75000003e+00],\n",
       "        [ 2.20000003e+00],\n",
       "        [ 2.95000004e+00],\n",
       "        [ 4.30000006e+00],\n",
       "        [ 4.70000007e+00],\n",
       "        [ 3.65000005e+00],\n",
       "        [ 1.70000003e+00],\n",
       "        [ 2.80000004e+00],\n",
       "        [ 4.80000007e+00],\n",
       "        [ 4.55000007e+00],\n",
       "        [ 9.00000013e+00],\n",
       "        [ 1.18000002e+01],\n",
       "        [ 9.25000014e+00],\n",
       "        [ 7.60000011e+00],\n",
       "        [ 8.80000013e+00],\n",
       "        [ 4.80000007e+00],\n",
       "        [ 3.80000006e+00],\n",
       "        [ 7.30000011e+00],\n",
       "        [ 1.08000002e+01],\n",
       "        [ 1.01500002e+01],\n",
       "        [ 1.19500002e+01],\n",
       "        [ 1.27500002e+01],\n",
       "        [ 1.09000002e+01],\n",
       "        [ 8.90000013e+00],\n",
       "        [ 7.65000011e+00],\n",
       "        [ 3.40000005e+00],\n",
       "        [ 5.00000007e-02],\n",
       "        [ 2.05000003e+00],\n",
       "        [ 5.55000008e+00],\n",
       "        [ 1.15000002e+00],\n",
       "        [-1.00000001e-01],\n",
       "        [-2.55000004e+00],\n",
       "        [-6.05000009e+00],\n",
       "        [-1.23500002e+01],\n",
       "        [-1.33500002e+01],\n",
       "        [-1.90000003e+01],\n",
       "        [-2.41000004e+01],\n",
       "        [-2.59000004e+01],\n",
       "        [-2.81000004e+01],\n",
       "        [-3.05500005e+01],\n",
       "        [-3.06000005e+01],\n",
       "        [-3.01500004e+01],\n",
       "        [-3.40000005e+01],\n",
       "        [-3.79000006e+01],\n",
       "        [-4.08500006e+01],\n",
       "        [-4.55500007e+01],\n",
       "        [-4.86500007e+01],\n",
       "        [-4.64000007e+01],\n",
       "        [-4.25500006e+01],\n",
       "        [-4.35000006e+01],\n",
       "        [-4.16500006e+01],\n",
       "        [-3.76500006e+01],\n",
       "        [-3.94500006e+01],\n",
       "        [-3.93500006e+01],\n",
       "        [-3.55000005e+01],\n",
       "        [-3.77000006e+01],\n",
       "        [-3.90500006e+01],\n",
       "        [-3.63000005e+01],\n",
       "        [-3.61500005e+01],\n",
       "        [-3.63000005e+01],\n",
       "        [-3.31000005e+01],\n",
       "        [-3.28500005e+01],\n",
       "        [-3.70500006e+01],\n",
       "        [-3.95000006e+01],\n",
       "        [-3.74500006e+01],\n",
       "        [-3.89000006e+01],\n",
       "        [-4.18500006e+01],\n",
       "        [-3.82500006e+01],\n",
       "        [-3.53000005e+01],\n",
       "        [-3.65500005e+01],\n",
       "        [-3.27500005e+01],\n",
       "        [-3.12500005e+01],\n",
       "        [-3.36500005e+01],\n",
       "        [-3.41500005e+01],\n",
       "        [-3.00000004e+01],\n",
       "        [-3.02000005e+01],\n",
       "        [-3.12000005e+01],\n",
       "        [-2.76000004e+01],\n",
       "        [-2.35000004e+01],\n",
       "        [-2.22500003e+01],\n",
       "        [-1.70500003e+01],\n",
       "        [-1.64500002e+01],\n",
       "        [-1.61000002e+01],\n",
       "        [-1.61500002e+01],\n",
       "        [-1.45000002e+01],\n",
       "        [-1.46500002e+01],\n",
       "        [-1.38000002e+01],\n",
       "        [-8.45000013e+00],\n",
       "        [-4.35000006e+00],\n",
       "        [ 7.50000011e-01],\n",
       "        [ 8.20000012e+00],\n",
       "        [ 1.10000002e+01],\n",
       "        [ 1.03000002e+01],\n",
       "        [ 1.21000002e+01],\n",
       "        [ 1.88500003e+01],\n",
       "        [ 1.85000003e+01],\n",
       "        [ 1.70000003e+01],\n",
       "        [ 2.33500003e+01],\n",
       "        [ 2.99500004e+01],\n",
       "        [ 3.16500005e+01],\n",
       "        [ 3.82500006e+01],\n",
       "        [ 4.25000006e+01],\n",
       "        [ 4.20000006e+01],\n",
       "        [ 4.22500006e+01],\n",
       "        [ 4.57000007e+01],\n",
       "        [ 4.12000006e+01],\n",
       "        [ 3.86000006e+01],\n",
       "        [ 3.91500006e+01],\n",
       "        [ 3.89000006e+01],\n",
       "        [ 4.19000006e+01],\n",
       "        [ 4.56000007e+01],\n",
       "        [ 4.48000007e+01],\n",
       "        [ 4.22000006e+01],\n",
       "        [ 3.97500006e+01],\n",
       "        [ 4.17500006e+01],\n",
       "        [ 3.87000006e+01],\n",
       "        [ 3.77500006e+01],\n",
       "        [ 4.10500006e+01],\n",
       "        [ 4.34500006e+01],\n",
       "        [ 4.37500007e+01],\n",
       "        [ 4.88000007e+01],\n",
       "        [ 5.26500008e+01],\n",
       "        [ 5.14000008e+01],\n",
       "        [ 4.92000007e+01],\n",
       "        [ 5.20000008e+01],\n",
       "        [ 4.78500007e+01],\n",
       "        [ 4.86500007e+01],\n",
       "        [ 5.38500008e+01],\n",
       "        [ 5.52500008e+01],\n",
       "        [ 5.52000008e+01],\n",
       "        [ 5.93500009e+01],\n",
       "        [ 6.07500009e+01],\n",
       "        [ 5.86500009e+01],\n",
       "        [ 5.79000009e+01],\n",
       "        [ 6.18500009e+01],\n",
       "        [ 6.06000009e+01],\n",
       "        [ 5.69000008e+01],\n",
       "        [ 6.03500009e+01],\n",
       "        [ 6.14500009e+01],\n",
       "        [ 6.20500009e+01],\n",
       "        [ 6.46500010e+01],\n",
       "        [ 6.85000010e+01],\n",
       "        [ 6.90500010e+01],\n",
       "        [ 6.38000010e+01],\n",
       "        [ 6.33000009e+01],\n",
       "        [ 6.39500010e+01],\n",
       "        [ 6.32500009e+01],\n",
       "        [ 6.31500009e+01],\n",
       "        [ 6.32500009e+01],\n",
       "        [ 6.14500009e+01],\n",
       "        [ 6.32500009e+01],\n",
       "        [ 6.51500010e+01],\n",
       "        [ 6.11000009e+01],\n",
       "        [ 5.76000009e+01],\n",
       "        [ 5.80000009e+01],\n",
       "        [ 5.34000008e+01],\n",
       "        [ 4.97500007e+01],\n",
       "        [ 5.19500008e+01],\n",
       "        [ 5.27000008e+01],\n",
       "        [ 5.19000008e+01],\n",
       "        [ 5.43000008e+01],\n",
       "        [ 5.53500008e+01],\n",
       "        [ 5.27000008e+01],\n",
       "        [ 4.99000007e+01],\n",
       "        [ 4.97500007e+01],\n",
       "        [ 4.40500007e+01],\n",
       "        [ 4.23000006e+01],\n",
       "        [ 4.61000007e+01],\n",
       "        [ 4.75500007e+01],\n",
       "        [ 4.63500007e+01],\n",
       "        [ 4.97000007e+01],\n",
       "        [ 5.23000008e+01],\n",
       "        [ 4.91000007e+01],\n",
       "        [ 4.85000007e+01],\n",
       "        [ 4.81000007e+01],\n",
       "        [ 4.24000006e+01],\n",
       "        [ 3.71000006e+01],\n",
       "        [ 3.67000005e+01],\n",
       "        [ 3.77500006e+01],\n",
       "        [ 3.67000005e+01],\n",
       "        [ 4.16500006e+01],\n",
       "        [ 4.28000006e+01],\n",
       "        [ 3.99500006e+01],\n",
       "        [ 3.94500006e+01],\n",
       "        [ 3.98500006e+01],\n",
       "        [ 3.54500005e+01],\n",
       "        [ 3.43500005e+01],\n",
       "        [ 3.76000006e+01],\n",
       "        [ 4.30500006e+01],\n",
       "        [ 4.24000006e+01],\n",
       "        [ 4.35000006e+01],\n",
       "        [ 4.73000007e+01],\n",
       "        [ 4.79000007e+01],\n",
       "        [ 4.48500007e+01],\n",
       "        [ 4.16500006e+01],\n",
       "        [ 3.65500005e+01],\n",
       "        [ 3.36500005e+01],\n",
       "        [ 3.47500005e+01],\n",
       "        [ 3.56500005e+01],\n",
       "        [ 3.14000005e+01],\n",
       "        [ 3.48000005e+01],\n",
       "        [ 3.61500005e+01],\n",
       "        [ 3.55000005e+01],\n",
       "        [ 3.33500005e+01],\n",
       "        [ 3.02000005e+01],\n",
       "        [ 2.67000004e+01],\n",
       "        [ 2.41000004e+01],\n",
       "        [ 2.46000004e+01],\n",
       "        [ 2.60500004e+01],\n",
       "        [ 2.40500004e+01],\n",
       "        [ 2.72000004e+01],\n",
       "        [ 2.70000004e+01],\n",
       "        [ 2.26000003e+01],\n",
       "        [ 2.16500003e+01],\n",
       "        [ 2.30000003e+01],\n",
       "        [ 1.71500003e+01],\n",
       "        [ 1.45500002e+01],\n",
       "        [ 1.92500003e+01],\n",
       "        [ 2.14000003e+01],\n",
       "        [ 1.96500003e+01],\n",
       "        [ 2.38500004e+01],\n",
       "        [ 2.80000004e+01],\n",
       "        [ 2.53500004e+01],\n",
       "        [ 2.36000004e+01],\n",
       "        [ 2.29500003e+01],\n",
       "        [ 1.89000003e+01],\n",
       "        [ 1.75000003e+01],\n",
       "        [ 2.02000003e+01],\n",
       "        [ 2.09000003e+01],\n",
       "        [ 2.23000003e+01],\n",
       "        [ 2.49000004e+01],\n",
       "        [ 2.77000004e+01],\n",
       "        [ 2.97000004e+01],\n",
       "        [ 2.98500004e+01],\n",
       "        [ 2.85000004e+01],\n",
       "        [ 2.40000004e+01],\n",
       "        [ 2.13500003e+01],\n",
       "        [ 2.58000004e+01],\n",
       "        [ 2.77500004e+01],\n",
       "        [ 2.86500004e+01],\n",
       "        [ 2.90500004e+01],\n",
       "        [ 3.05000005e+01],\n",
       "        [ 2.83500004e+01],\n",
       "        [ 2.54000004e+01],\n",
       "        [ 2.63000004e+01],\n",
       "        [ 2.20000003e+01],\n",
       "        [ 1.90500003e+01],\n",
       "        [ 2.39000004e+01],\n",
       "        [ 2.56500004e+01],\n",
       "        [ 2.32000003e+01],\n",
       "        [ 2.58000004e+01],\n",
       "        [ 2.80500004e+01],\n",
       "        [ 2.69500004e+01],\n",
       "        [ 2.79500004e+01],\n",
       "        [ 3.20000005e+01],\n",
       "        [ 2.73000004e+01],\n",
       "        [ 2.39500004e+01],\n",
       "        [ 2.81000004e+01],\n",
       "        [ 3.20000005e+01],\n",
       "        [ 3.15000005e+01],\n",
       "        [ 3.61500005e+01],\n",
       "        [ 3.73500006e+01],\n",
       "        [ 3.75500006e+01],\n",
       "        [ 3.49000005e+01],\n",
       "        [ 3.70500006e+01],\n",
       "        [ 3.27000005e+01],\n",
       "        [ 2.93500004e+01],\n",
       "        [ 3.18000005e+01],\n",
       "        [ 3.32000005e+01],\n",
       "        [ 3.29000005e+01],\n",
       "        [ 3.60000005e+01],\n",
       "        [ 3.55500005e+01],\n",
       "        [ 2.96500004e+01],\n",
       "        [ 2.45500004e+01],\n",
       "        [ 2.03000003e+01],\n",
       "        [ 1.56500002e+01],\n",
       "        [ 1.47000002e+01],\n",
       "        [ 1.78500003e+01],\n",
       "        [ 1.74500003e+01],\n",
       "        [ 1.53500002e+01],\n",
       "        [ 1.79500003e+01],\n",
       "        [ 1.90000003e+01],\n",
       "        [ 2.04500003e+01],\n",
       "        [ 2.23500003e+01],\n",
       "        [ 2.45000004e+01],\n",
       "        [ 2.27000003e+01],\n",
       "        [ 2.00500003e+01],\n",
       "        [ 2.20500003e+01],\n",
       "        [ 2.15500003e+01],\n",
       "        [ 2.16500003e+01],\n",
       "        [ 2.71000004e+01],\n",
       "        [ 3.08000005e+01],\n",
       "        [ 2.92500004e+01],\n",
       "        [ 2.71000004e+01],\n",
       "        [ 2.80500004e+01],\n",
       "        [ 2.57000004e+01],\n",
       "        [ 2.37500004e+01],\n",
       "        [ 2.60500004e+01],\n",
       "        [ 2.76500004e+01],\n",
       "        [ 2.61500004e+01],\n",
       "        [ 2.88500004e+01],\n",
       "        [ 3.02500005e+01],\n",
       "        [ 2.89000004e+01],\n",
       "        [ 2.88500004e+01],\n",
       "        [ 2.89500004e+01],\n",
       "        [ 2.30500003e+01],\n",
       "        [ 2.26000003e+01],\n",
       "        [ 2.65000004e+01],\n",
       "        [ 2.84500004e+01],\n",
       "        [ 2.94500004e+01],\n",
       "        [ 3.39500005e+01],\n",
       "        [ 3.42500005e+01],\n",
       "        [ 3.14500005e+01],\n",
       "        [ 2.94000004e+01],\n",
       "        [ 2.83000004e+01],\n",
       "        [ 2.49000004e+01],\n",
       "        [ 2.30500003e+01],\n",
       "        [ 2.45500004e+01],\n",
       "        [ 2.38500004e+01],\n",
       "        [ 2.21500003e+01],\n",
       "        [ 2.53500004e+01],\n",
       "        [ 2.64500004e+01],\n",
       "        [ 2.61500004e+01],\n",
       "        [ 2.44500004e+01],\n",
       "        [ 2.32000003e+01],\n",
       "        [ 1.99500003e+01],\n",
       "        [ 1.76500003e+01],\n",
       "        [ 1.97500003e+01],\n",
       "        [ 2.29500003e+01],\n",
       "        [ 2.54000004e+01],\n",
       "        [ 2.95500004e+01],\n",
       "        [ 3.05500005e+01],\n",
       "        [ 2.80000004e+01],\n",
       "        [ 2.66500004e+01],\n",
       "        [ 2.59500004e+01],\n",
       "        [ 2.07000003e+01],\n",
       "        [ 1.84000003e+01],\n",
       "        [ 1.67500002e+01],\n",
       "        [ 1.60000002e+01],\n",
       "        [ 1.37500002e+01],\n",
       "        [ 1.30500002e+01],\n",
       "        [ 1.07000002e+01],\n",
       "        [ 4.15000006e+00],\n",
       "        [ 1.55000002e+00],\n",
       "        [ 1.15000002e+00],\n",
       "        [-1.75000003e+00],\n",
       "        [-1.75000003e+00],\n",
       "        [ 2.20000003e+00],\n",
       "        [ 5.60000008e+00],\n",
       "        [ 8.85000013e+00],\n",
       "        [ 1.39500002e+01],\n",
       "        [ 2.03000003e+01],\n",
       "        [ 2.08000003e+01],\n",
       "        [ 1.87500003e+01],\n",
       "        [ 2.04500003e+01],\n",
       "        [ 1.69500003e+01],\n",
       "        [ 1.29500002e+01],\n",
       "        [ 1.47500002e+01],\n",
       "        [ 1.51500002e+01],\n",
       "        [ 1.24500002e+01],\n",
       "        [ 1.40000002e+01],\n",
       "        [ 1.64000002e+01],\n",
       "        [ 1.43500002e+01],\n",
       "        [ 1.02000002e+01],\n",
       "        [ 9.95000015e+00],\n",
       "        [ 7.35000011e+00],\n",
       "        [ 4.45000007e+00],\n",
       "        [ 7.15000011e+00],\n",
       "        [ 9.05000013e+00],\n",
       "        [ 1.11500002e+01],\n",
       "        [ 1.61500002e+01],\n",
       "        [ 1.86000003e+01],\n",
       "        [ 1.83500003e+01],\n",
       "        [ 1.67000002e+01],\n",
       "        [ 1.43500002e+01],\n",
       "        [ 1.00000001e+01],\n",
       "        [ 5.60000008e+00],\n",
       "        [ 6.25000009e+00],\n",
       "        [ 7.55000011e+00],\n",
       "        [ 6.70000010e+00],\n",
       "        [ 1.02000002e+01],\n",
       "        [ 1.08000002e+01],\n",
       "        [ 8.30000012e+00],\n",
       "        [ 6.35000009e+00],\n",
       "        [ 6.85000010e+00],\n",
       "        [ 6.40000010e+00],\n",
       "        [ 3.40000005e+00],\n",
       "        [ 6.60000010e+00],\n",
       "        [ 8.55000013e+00],\n",
       "        [ 1.11500002e+01],\n",
       "        [ 1.50000002e+01],\n",
       "        [ 1.88500003e+01],\n",
       "        [ 1.85500003e+01],\n",
       "        [ 1.84000003e+01],\n",
       "        [ 1.93500003e+01],\n",
       "        [ 1.61500002e+01],\n",
       "        [ 1.68000003e+01],\n",
       "        [ 1.88500003e+01],\n",
       "        [ 1.71500003e+01],\n",
       "        [ 1.54500002e+01]]])"
      ]
     },
     "execution_count": 22,
     "metadata": {},
     "output_type": "execute_result"
    }
   ],
   "source": [
    "epochs_067_np[:1]\n",
    "# do I need to convert back to correct unit?"
   ]
  },
  {
   "cell_type": "markdown",
   "id": "395a3cef-6511-4452-84ba-0d83df9f4e51",
   "metadata": {
    "jp-MarkdownHeadingCollapsed": true
   },
   "source": [
    "### Prepare X and y train and test sets"
   ]
  },
  {
   "cell_type": "code",
   "execution_count": 23,
   "id": "7fab44e9-815f-4ea3-a812-95407f80829f",
   "metadata": {},
   "outputs": [],
   "source": [
    "# split into X and y (labels) data\n",
    "X = epochs_067_np\n",
    "y = epoch_labels_067\n",
    "\n",
    "# split into train and test set\n",
    "\n",
    "X_train, X_test, y_train, y_test = train_test_split(X, y, test_size=0.2, random_state=42, stratify=y)\n",
    "# stratify = y to ensure that same proportion of classes in both training and test set"
   ]
  },
  {
   "cell_type": "code",
   "execution_count": 24,
   "id": "4d1d7cbb-5428-429f-bdec-533de4e78726",
   "metadata": {},
   "outputs": [
    {
     "name": "stdout",
     "output_type": "stream",
     "text": [
      "(13368, 500, 1)\n",
      "(13368,)\n",
      "(3342, 500, 1)\n",
      "(3342,)\n"
     ]
    }
   ],
   "source": [
    "print(X_train.shape)\n",
    "print(y_train.shape)\n",
    "\n",
    "print(X_test.shape)\n",
    "print(y_test.shape)"
   ]
  },
  {
   "cell_type": "markdown",
   "id": "5da213a8-9ad0-4deb-8cde-62d2e5202718",
   "metadata": {
    "jp-MarkdownHeadingCollapsed": true
   },
   "source": [
    "### Train the model"
   ]
  },
  {
   "cell_type": "code",
   "execution_count": 25,
   "id": "b836a1a8-c55f-4e1a-86df-efd23581c0ec",
   "metadata": {},
   "outputs": [],
   "source": [
    "#class_weights = class_weight.compute_class_weight(class_weight='balanced', classes=np.unique(y_train), y=y_train)\n",
    "#class_weight_dict ={0: class_weights[0], 1: class_weights[1]}"
   ]
  },
  {
   "cell_type": "code",
   "execution_count": 26,
   "id": "5c6f8177-58e6-4275-b032-061cb4f56083",
   "metadata": {},
   "outputs": [
    {
     "name": "stdout",
     "output_type": "stream",
     "text": [
      "Epoch 1/30\n",
      "\u001b[1m168/168\u001b[0m \u001b[32m━━━━━━━━━━━━━━━━━━━━\u001b[0m\u001b[37m\u001b[0m \u001b[1m36s\u001b[0m 167ms/step - accuracy: 0.6853 - loss: 0.6264 - val_accuracy: 0.6743 - val_loss: 0.6121\n",
      "Epoch 2/30\n",
      "\u001b[1m168/168\u001b[0m \u001b[32m━━━━━━━━━━━━━━━━━━━━\u001b[0m\u001b[37m\u001b[0m \u001b[1m31s\u001b[0m 182ms/step - accuracy: 0.6975 - loss: 0.5925 - val_accuracy: 0.7364 - val_loss: 0.5291\n",
      "Epoch 3/30\n",
      "\u001b[1m168/168\u001b[0m \u001b[32m━━━━━━━━━━━━━━━━━━━━\u001b[0m\u001b[37m\u001b[0m \u001b[1m32s\u001b[0m 190ms/step - accuracy: 0.7179 - loss: 0.5607 - val_accuracy: 0.7636 - val_loss: 0.4990\n",
      "Epoch 4/30\n",
      "\u001b[1m168/168\u001b[0m \u001b[32m━━━━━━━━━━━━━━━━━━━━\u001b[0m\u001b[37m\u001b[0m \u001b[1m34s\u001b[0m 199ms/step - accuracy: 0.7451 - loss: 0.5261 - val_accuracy: 0.7610 - val_loss: 0.5250\n",
      "Epoch 5/30\n",
      "\u001b[1m168/168\u001b[0m \u001b[32m━━━━━━━━━━━━━━━━━━━━\u001b[0m\u001b[37m\u001b[0m \u001b[1m33s\u001b[0m 198ms/step - accuracy: 0.7473 - loss: 0.5394 - val_accuracy: 0.6889 - val_loss: 0.5969\n",
      "Epoch 6/30\n",
      "\u001b[1m168/168\u001b[0m \u001b[32m━━━━━━━━━━━━━━━━━━━━\u001b[0m\u001b[37m\u001b[0m \u001b[1m33s\u001b[0m 199ms/step - accuracy: 0.7023 - loss: 0.5804 - val_accuracy: 0.7311 - val_loss: 0.5477\n",
      "Epoch 7/30\n",
      "\u001b[1m168/168\u001b[0m \u001b[32m━━━━━━━━━━━━━━━━━━━━\u001b[0m\u001b[37m\u001b[0m \u001b[1m34s\u001b[0m 204ms/step - accuracy: 0.7410 - loss: 0.5412 - val_accuracy: 0.7898 - val_loss: 0.4695\n",
      "Epoch 8/30\n",
      "\u001b[1m168/168\u001b[0m \u001b[32m━━━━━━━━━━━━━━━━━━━━\u001b[0m\u001b[37m\u001b[0m \u001b[1m35s\u001b[0m 206ms/step - accuracy: 0.7972 - loss: 0.4753 - val_accuracy: 0.7016 - val_loss: 0.5816\n",
      "Epoch 9/30\n",
      "\u001b[1m168/168\u001b[0m \u001b[32m━━━━━━━━━━━━━━━━━━━━\u001b[0m\u001b[37m\u001b[0m \u001b[1m35s\u001b[0m 206ms/step - accuracy: 0.7156 - loss: 0.5631 - val_accuracy: 0.7924 - val_loss: 0.4766\n",
      "Epoch 10/30\n",
      "\u001b[1m168/168\u001b[0m \u001b[32m━━━━━━━━━━━━━━━━━━━━\u001b[0m\u001b[37m\u001b[0m \u001b[1m35s\u001b[0m 208ms/step - accuracy: 0.7559 - loss: 0.5224 - val_accuracy: 0.7850 - val_loss: 0.4881\n",
      "Epoch 11/30\n",
      "\u001b[1m168/168\u001b[0m \u001b[32m━━━━━━━━━━━━━━━━━━━━\u001b[0m\u001b[37m\u001b[0m \u001b[1m36s\u001b[0m 215ms/step - accuracy: 0.7979 - loss: 0.4646 - val_accuracy: 0.8261 - val_loss: 0.4116\n",
      "Epoch 12/30\n",
      "\u001b[1m168/168\u001b[0m \u001b[32m━━━━━━━━━━━━━━━━━━━━\u001b[0m\u001b[37m\u001b[0m \u001b[1m35s\u001b[0m 210ms/step - accuracy: 0.8274 - loss: 0.4192 - val_accuracy: 0.8250 - val_loss: 0.4176\n",
      "Epoch 13/30\n",
      "\u001b[1m168/168\u001b[0m \u001b[32m━━━━━━━━━━━━━━━━━━━━\u001b[0m\u001b[37m\u001b[0m \u001b[1m34s\u001b[0m 204ms/step - accuracy: 0.8147 - loss: 0.4297 - val_accuracy: 0.8437 - val_loss: 0.3805\n",
      "Epoch 14/30\n",
      "\u001b[1m168/168\u001b[0m \u001b[32m━━━━━━━━━━━━━━━━━━━━\u001b[0m\u001b[37m\u001b[0m \u001b[1m35s\u001b[0m 207ms/step - accuracy: 0.8337 - loss: 0.3910 - val_accuracy: 0.8325 - val_loss: 0.3927\n",
      "Epoch 15/30\n",
      "\u001b[1m168/168\u001b[0m \u001b[32m━━━━━━━━━━━━━━━━━━━━\u001b[0m\u001b[37m\u001b[0m \u001b[1m35s\u001b[0m 207ms/step - accuracy: 0.8406 - loss: 0.3828 - val_accuracy: 0.8426 - val_loss: 0.3778\n",
      "Epoch 16/30\n",
      "\u001b[1m168/168\u001b[0m \u001b[32m━━━━━━━━━━━━━━━━━━━━\u001b[0m\u001b[37m\u001b[0m \u001b[1m35s\u001b[0m 208ms/step - accuracy: 0.8462 - loss: 0.3782 - val_accuracy: 0.8227 - val_loss: 0.3978\n",
      "Epoch 17/30\n",
      "\u001b[1m168/168\u001b[0m \u001b[32m━━━━━━━━━━━━━━━━━━━━\u001b[0m\u001b[37m\u001b[0m \u001b[1m34s\u001b[0m 202ms/step - accuracy: 0.8410 - loss: 0.3790 - val_accuracy: 0.8358 - val_loss: 0.3811\n",
      "Epoch 18/30\n",
      "\u001b[1m168/168\u001b[0m \u001b[32m━━━━━━━━━━━━━━━━━━━━\u001b[0m\u001b[37m\u001b[0m \u001b[1m34s\u001b[0m 204ms/step - accuracy: 0.8428 - loss: 0.3769 - val_accuracy: 0.8504 - val_loss: 0.3626\n",
      "Epoch 19/30\n",
      "\u001b[1m168/168\u001b[0m \u001b[32m━━━━━━━━━━━━━━━━━━━━\u001b[0m\u001b[37m\u001b[0m \u001b[1m35s\u001b[0m 207ms/step - accuracy: 0.8371 - loss: 0.3779 - val_accuracy: 0.8470 - val_loss: 0.3600\n",
      "Epoch 20/30\n",
      "\u001b[1m168/168\u001b[0m \u001b[32m━━━━━━━━━━━━━━━━━━━━\u001b[0m\u001b[37m\u001b[0m \u001b[1m35s\u001b[0m 207ms/step - accuracy: 0.8397 - loss: 0.3703 - val_accuracy: 0.8470 - val_loss: 0.3674\n",
      "Epoch 21/30\n",
      "\u001b[1m168/168\u001b[0m \u001b[32m━━━━━━━━━━━━━━━━━━━━\u001b[0m\u001b[37m\u001b[0m \u001b[1m35s\u001b[0m 206ms/step - accuracy: 0.8427 - loss: 0.3732 - val_accuracy: 0.8332 - val_loss: 0.3816\n",
      "Epoch 22/30\n",
      "\u001b[1m168/168\u001b[0m \u001b[32m━━━━━━━━━━━━━━━━━━━━\u001b[0m\u001b[37m\u001b[0m \u001b[1m34s\u001b[0m 204ms/step - accuracy: 0.8456 - loss: 0.3619 - val_accuracy: 0.8384 - val_loss: 0.3831\n",
      "Epoch 23/30\n",
      "\u001b[1m168/168\u001b[0m \u001b[32m━━━━━━━━━━━━━━━━━━━━\u001b[0m\u001b[37m\u001b[0m \u001b[1m35s\u001b[0m 206ms/step - accuracy: 0.8539 - loss: 0.3598 - val_accuracy: 0.8351 - val_loss: 0.3876\n",
      "Epoch 24/30\n",
      "\u001b[1m168/168\u001b[0m \u001b[32m━━━━━━━━━━━━━━━━━━━━\u001b[0m\u001b[37m\u001b[0m \u001b[1m35s\u001b[0m 205ms/step - accuracy: 0.8450 - loss: 0.3588 - val_accuracy: 0.8265 - val_loss: 0.3927\n",
      "Epoch 25/30\n",
      "\u001b[1m168/168\u001b[0m \u001b[32m━━━━━━━━━━━━━━━━━━━━\u001b[0m\u001b[37m\u001b[0m \u001b[1m34s\u001b[0m 205ms/step - accuracy: 0.8484 - loss: 0.3534 - val_accuracy: 0.8478 - val_loss: 0.3553\n",
      "Epoch 26/30\n",
      "\u001b[1m168/168\u001b[0m \u001b[32m━━━━━━━━━━━━━━━━━━━━\u001b[0m\u001b[37m\u001b[0m \u001b[1m285s\u001b[0m 2s/step - accuracy: 0.8500 - loss: 0.3536 - val_accuracy: 0.8497 - val_loss: 0.3524\n",
      "Epoch 27/30\n",
      "\u001b[1m168/168\u001b[0m \u001b[32m━━━━━━━━━━━━━━━━━━━━\u001b[0m\u001b[37m\u001b[0m \u001b[1m35s\u001b[0m 205ms/step - accuracy: 0.8477 - loss: 0.3540 - val_accuracy: 0.8485 - val_loss: 0.3475\n",
      "Epoch 28/30\n",
      "\u001b[1m168/168\u001b[0m \u001b[32m━━━━━━━━━━━━━━━━━━━━\u001b[0m\u001b[37m\u001b[0m \u001b[1m20s\u001b[0m 120ms/step - accuracy: 0.8504 - loss: 0.3487 - val_accuracy: 0.7981 - val_loss: 0.4562\n",
      "Epoch 29/30\n",
      "\u001b[1m168/168\u001b[0m \u001b[32m━━━━━━━━━━━━━━━━━━━━\u001b[0m\u001b[37m\u001b[0m \u001b[1m1220s\u001b[0m 7s/step - accuracy: 0.8412 - loss: 0.3588 - val_accuracy: 0.8534 - val_loss: 0.3470\n",
      "Epoch 30/30\n",
      "\u001b[1m168/168\u001b[0m \u001b[32m━━━━━━━━━━━━━━━━━━━━\u001b[0m\u001b[37m\u001b[0m \u001b[1m22s\u001b[0m 129ms/step - accuracy: 0.8588 - loss: 0.3386 - val_accuracy: 0.8530 - val_loss: 0.3455\n"
     ]
    }
   ],
   "source": [
    "training_info = cnn_model.fit(X_train, y_train, validation_split=0.2, epochs=30, batch_size=64)"
   ]
  },
  {
   "cell_type": "markdown",
   "id": "f78e20ad-245f-4a65-bebd-a8e0a3eef7da",
   "metadata": {
    "jp-MarkdownHeadingCollapsed": true
   },
   "source": [
    "### Evaluate the model"
   ]
  },
  {
   "cell_type": "markdown",
   "id": "fb12104f-ab3e-490e-9c08-ece667f8bbb8",
   "metadata": {},
   "source": [
    "##### Plot the training history"
   ]
  },
  {
   "cell_type": "code",
   "execution_count": 27,
   "id": "a59f1710-04c1-4108-94ad-1383bdaf78e2",
   "metadata": {},
   "outputs": [],
   "source": [
    "def plot_training_history(training_info):\n",
    "  fig, axs = plt.subplots(1, 2, figsize=(16, 5))\n",
    "  axs[0].plot(training_info.history['loss'], label=\"training set\")\n",
    "  axs[0].plot(training_info.history['val_loss'], label=\"validation set\")\n",
    "  axs[0].set_xlabel(\"Epoch\")\n",
    "  axs[0].set_ylabel(\"Loss\")\n",
    "  axs[0].grid(True)\n",
    "  axs[0].legend()\n",
    "  try:\n",
    "    axs[1].plot(training_info.history['accuracy'], label=\"training set\")\n",
    "    axs[1].plot(training_info.history['val_accuracy'], label=\"validation set\")\n",
    "    axs[1].set_xlabel(\"Epoch\")\n",
    "    axs[1].set_ylabel(\"Accuracy\")\n",
    "    axs[1].grid(True)\n",
    "    axs[1].legend()\n",
    "  except:\n",
    "    pass\n",
    "  plt.show()\n",
    "\n",
    "plot_training_history(training_info)"
   ]
  },
  {
   "cell_type": "markdown",
   "id": "7f9aa107-ce3d-4fc6-9468-4914e82cc13c",
   "metadata": {},
   "source": [
    "##### Assess the model on the test set"
   ]
  },
  {
   "cell_type": "code",
   "execution_count": 28,
   "id": "e8999d50-0edf-4a0b-9b61-60a580c03020",
   "metadata": {},
   "outputs": [
    {
     "name": "stdout",
     "output_type": "stream",
     "text": [
      "\u001b[1m105/105\u001b[0m \u001b[32m━━━━━━━━━━━━━━━━━━━━\u001b[0m\u001b[37m\u001b[0m \u001b[1m3s\u001b[0m 26ms/step - accuracy: 0.8627 - loss: 0.3202\n"
     ]
    },
    {
     "data": {
      "text/plain": [
       "[0.33498018980026245, 0.855176568031311]"
      ]
     },
     "execution_count": 28,
     "metadata": {},
     "output_type": "execute_result"
    }
   ],
   "source": [
    "cnn_model.evaluate(X_test, y_test)"
   ]
  },
  {
   "cell_type": "markdown",
   "id": "5b716550-cc8a-4c77-a327-ddeca8fc491e",
   "metadata": {},
   "source": [
    "##### Metrics: precision, recall, f1-score"
   ]
  },
  {
   "cell_type": "code",
   "execution_count": 29,
   "id": "8feb4e2b-2aea-4690-8cf2-b51f253dc1c2",
   "metadata": {},
   "outputs": [
    {
     "name": "stdout",
     "output_type": "stream",
     "text": [
      "\u001b[1m105/105\u001b[0m \u001b[32m━━━━━━━━━━━━━━━━━━━━\u001b[0m\u001b[37m\u001b[0m \u001b[1m5s\u001b[0m 43ms/step\n",
      "[[2093  182]\n",
      " [ 302  765]]\n",
      "              precision    recall  f1-score   support\n",
      "\n",
      "           0       0.87      0.92      0.90      2275\n",
      "           1       0.81      0.72      0.76      1067\n",
      "\n",
      "    accuracy                           0.86      3342\n",
      "   macro avg       0.84      0.82      0.83      3342\n",
      "weighted avg       0.85      0.86      0.85      3342\n",
      "\n"
     ]
    }
   ],
   "source": [
    "y_pred = cnn_model.predict(X_test)\n",
    "y_pred_labels = (y_pred > 0.5).astype(int)\n",
    "\n",
    "print(confusion_matrix(y_test, y_pred_labels))\n",
    "print(classification_report(y_test, y_pred_labels))"
   ]
  },
  {
   "cell_type": "markdown",
   "id": "9410c08b-4797-49e8-b425-9c9c5a60ae4a",
   "metadata": {},
   "source": [
    "##### Plotting the ROC curve"
   ]
  },
  {
   "cell_type": "code",
   "execution_count": 30,
   "id": "ff8bcbb8-bfc6-4fb7-90a0-1ee3c4ee026a",
   "metadata": {},
   "outputs": [],
   "source": [
    "# Flatten in case y_pred has shape (n_samples, 1)\n",
    "y_pred_proba = y_pred.ravel()\n",
    "\n",
    "# Compute ROC curve and AUC\n",
    "fpr, tpr, thresholds = roc_curve(y_test, y_pred_proba)\n",
    "roc_auc = auc(fpr, tpr)\n",
    "\n",
    "# Plotting\n",
    "plt.figure()\n",
    "plt.plot(fpr, tpr, color='darkorange', lw=2, label=f\"ROC curve (AUC = {roc_auc:.2f})\")\n",
    "plt.plot([0, 1], [0, 1], color='navy', lw=2, linestyle='--', label='Random chance')\n",
    "plt.xlim([0.0, 1.0])\n",
    "plt.ylim([0.0, 1.05])\n",
    "plt.xlabel(\"False Positive Rate\")\n",
    "plt.ylabel(\"True Positive Rate\")\n",
    "plt.title(\"Receiver Operating Characteristic\")\n",
    "plt.legend(loc=\"lower right\")\n",
    "plt.grid(True)\n",
    "plt.show()"
   ]
  },
  {
   "cell_type": "code",
   "execution_count": null,
   "id": "21d119ee-6f67-4179-9218-3d9d1c7b5749",
   "metadata": {},
   "outputs": [],
   "source": [
    "model = build_cnn_model()\n",
    "print(model.input_shape)"
   ]
  },
  {
   "cell_type": "code",
   "execution_count": null,
   "id": "b488f8a6-a36c-425c-ba97-1e0c69159d53",
   "metadata": {},
   "outputs": [],
   "source": [
    "X_train.shape"
   ]
  },
  {
   "cell_type": "code",
   "execution_count": null,
   "id": "4506a55a-0d82-47c2-a89e-a9d5108a080d",
   "metadata": {},
   "outputs": [],
   "source": [
    "print(\"X shape:\", X_train.shape)\n",
    "print(\"Model input shape:\", model.input_shape)"
   ]
  },
  {
   "cell_type": "code",
   "execution_count": null,
   "id": "eff13a85-b146-47d3-ba6a-09f97655c600",
   "metadata": {},
   "outputs": [],
   "source": []
  }
 ],
 "metadata": {
  "kernelspec": {
   "display_name": "Python 3 (ipykernel)",
   "language": "python",
   "name": "python3"
  },
  "language_info": {
   "codemirror_mode": {
    "name": "ipython",
    "version": 3
   },
   "file_extension": ".py",
   "mimetype": "text/x-python",
   "name": "python",
   "nbconvert_exporter": "python",
   "pygments_lexer": "ipython3",
   "version": "3.11.11"
  }
 },
 "nbformat": 4,
 "nbformat_minor": 5
}
